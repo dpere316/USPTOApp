{
 "cells": [
  {
   "cell_type": "code",
   "execution_count": 19,
   "id": "french-impossible",
   "metadata": {},
   "outputs": [],
   "source": [
    "import requests\n",
    "from pprint import pprint"
   ]
  },
  {
   "cell_type": "code",
   "execution_count": 6,
   "id": "mechanical-checklist",
   "metadata": {},
   "outputs": [],
   "source": [
    "patentno = str(5742739)"
   ]
  },
  {
   "cell_type": "code",
   "execution_count": 49,
   "id": "handmade-hollywood",
   "metadata": {},
   "outputs": [],
   "source": [
    "url = f'https://api.patentsview.org/patents/query?q={{\"patent_number\":\"{patentno}\"}}&f=[\"patent_abstract\",\"patent_title\"]'"
   ]
  },
  {
   "cell_type": "code",
   "execution_count": 50,
   "id": "continued-fault",
   "metadata": {},
   "outputs": [],
   "source": [
    "response = requests.get(url)"
   ]
  },
  {
   "cell_type": "code",
   "execution_count": 51,
   "id": "different-brush",
   "metadata": {},
   "outputs": [
    {
     "name": "stdout",
     "output_type": "stream",
     "text": [
      "{'patent_abstract': 'A method of speeding up the execution of a wide class of '\n",
      "                    'neural networks for processing input signals evolving '\n",
      "                    'slowly through time, such as, for instance, voice, radar, '\n",
      "                    'sonar, video signals, and which requires no specialized, '\n",
      "                    'costly or hard-to-find hardware. The method requires '\n",
      "                    'storing, for the neurons in at least one level of the '\n",
      "                    'network, the activation value at a certain instant and '\n",
      "                    'comparing it with the one computed at the subsequent '\n",
      "                    'instant. If the activation is equal, the neuron carries '\n",
      "                    'out no activity, otherwise it propagates the difference '\n",
      "                    'in activation, multiplied by the interconnection weights, '\n",
      "                    'to the neurons it is connected to.',\n",
      " 'patent_title': 'Method of speeding up the execution of neural networks for '\n",
      "                 'correlated signal processing'}\n"
     ]
    }
   ],
   "source": [
    "d = response.json()['patents'][0]\n",
    "pprint(d)"
   ]
  },
  {
   "cell_type": "code",
   "execution_count": 68,
   "id": "announced-checkout",
   "metadata": {},
   "outputs": [],
   "source": [
    "#print('i')\n",
    "pat = {}\n",
    "errors = {}\n",
    "files = ['antiseeds_ids.txt','seeds_ids.txt']\n",
    "for file in files:\n",
    "    patents_list = []\n",
    "    error_list = []\n",
    "    with open(file) as f:\n",
    "        for line in f:\n",
    "            patentno = line[:-1]\n",
    "            url = f'https://api.patentsview.org/patents/query?q={{\"patent_number\":\"{patentno}\"}}&f=[\"patent_abstract\",\"patent_title\"]'\n",
    "            #print(f'getting {patentno} response')\n",
    "            response = requests.get(url)\n",
    "            #pprint(response.json())\n",
    "            if response.json()['patents'] is not None:\n",
    "                #print(f'found {patentno}')\n",
    "                d = response.json()['patents'][0]\n",
    "                #print(f'created dict')\n",
    "                my_dict = {\"id\":patentno,'title':d['patent_title'],'abstract':d['patent_abstract']}\n",
    "                patents_list.append(my_dict)\n",
    "            else:\n",
    "                #print(f'error {patentno}')\n",
    "                error_list.append(patentno)\n",
    "        pat[file[:-8]]= patents_list\n",
    "        errors[file[:-8]]= error_list"
   ]
  },
  {
   "cell_type": "code",
   "execution_count": 70,
   "id": "hazardous-criticism",
   "metadata": {},
   "outputs": [],
   "source": [
    "import json\n",
    "with open('successfull.json', 'w') as f:\n",
    "    json.dump(pat, f)"
   ]
  },
  {
   "cell_type": "code",
   "execution_count": 71,
   "id": "ecological-hepatitis",
   "metadata": {},
   "outputs": [],
   "source": [
    "import json\n",
    "with open('unsuccessfull.json', 'w') as f:\n",
    "    json.dump(errors, f)"
   ]
  }
 ],
 "metadata": {
  "kernelspec": {
   "display_name": "Python 3",
   "language": "python",
   "name": "python3"
  },
  "language_info": {
   "codemirror_mode": {
    "name": "ipython",
    "version": 3
   },
   "file_extension": ".py",
   "mimetype": "text/x-python",
   "name": "python",
   "nbconvert_exporter": "python",
   "pygments_lexer": "ipython3",
   "version": "3.9.1"
  }
 },
 "nbformat": 4,
 "nbformat_minor": 5
}
