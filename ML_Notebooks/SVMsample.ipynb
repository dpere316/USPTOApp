{
 "cells": [
  {
   "cell_type": "markdown",
   "id": "sublime-girlfriend",
   "metadata": {},
   "source": [
    "# Accessing the data"
   ]
  },
  {
   "cell_type": "markdown",
   "id": "nervous-estate",
   "metadata": {},
   "source": [
    "## Imports"
   ]
  },
  {
   "cell_type": "code",
   "execution_count": 5,
   "id": "empty-tribe",
   "metadata": {},
   "outputs": [],
   "source": [
    "import pymongo\n",
    "from pymongo import MongoClient\n",
    "from pprint import pprint"
   ]
  },
  {
   "cell_type": "markdown",
   "id": "reliable-objective",
   "metadata": {},
   "source": [
    "## Database Connection"
   ]
  },
  {
   "cell_type": "code",
   "execution_count": 6,
   "id": "developing-incident",
   "metadata": {},
   "outputs": [],
   "source": [
    "#We connect to the database\n",
    "cluster = MongoClient(#INSERT URI HERE)\n",
    "\n",
    "#We create different objects for the different databases needed\n",
    "db = cluster['PatentData']\n",
    "labels_db = db['labels']\n",
    "patent_db = db['Patents']"
   ]
  },
  {
   "cell_type": "markdown",
   "id": "bored-venice",
   "metadata": {},
   "source": [
    "### Example of a patent entry"
   ]
  },
  {
   "cell_type": "code",
   "execution_count": 12,
   "id": "involved-nevada",
   "metadata": {},
   "outputs": [
    {
     "name": "stdout",
     "output_type": "stream",
     "text": [
      "{'_id': ObjectId('5fbd9231c00b71b87435bde2'),\n",
      " 'abstract': '\\\\n   A scanning optical system is configured to include a light '\n",
      "             'source, an anamorphic optical element, a polygonal mirror, and '\n",
      "             'an imaging optical system. The imaging optical system has a '\n",
      "             'scanning lens including a first lens provided on a polygonal '\n",
      "             'mirror side and a second lens provided on a surface side, and a '\n",
      "             'compensation lens provided on the surface side with respect to '\n",
      "             'the scanning lens, the compensation lens compensating for '\n",
      "             'curvature of field. The scanning lens includes at least one '\n",
      "             'convex surface that has a toric surface having a stronger power '\n",
      "             'in the auxiliary scanning direction than in the main scanning '\n",
      "             'direction. One surface of the compensation lens has an '\n",
      "             'anamorphic aspherical surface, which is a surface whose radius '\n",
      "             'of curvature in the auxiliary scanning direction at a point '\n",
      "             'spaced from the optical axis thereof is determined independently '\n",
      "             'from a cross-sectional shape thereof along the main scanning '\n",
      "             'direction.\\\\n',\n",
      " 'documentId': '06958839',\n",
      " 'original_classification': {'cpc': {'additional': [], 'inventive': []},\n",
      "                             'ipc': {'additional': [],\n",
      "                                     'facets_inventive': ['0/G',\n",
      "                                                          '1/G/02',\n",
      "                                                          '2/G/02/B',\n",
      "                                                          '3/G/02/B/026',\n",
      "                                                          '4/G/02/B/026/08'],\n",
      "                                     'inventive': [{'normalized': 'G02B 026/08',\n",
      "                                                    'raw': 'G02B026/08'}]},\n",
      "                             'locarno': [],\n",
      "                             'uspc': {'facets': ['0/347',\n",
      "                                                 '0/359',\n",
      "                                                 '1/347/243',\n",
      "                                                 '1/347/244',\n",
      "                                                 '1/347/259',\n",
      "                                                 '1/359/204',\n",
      "                                                 '1/359/207',\n",
      "                                                 '1/359/216'],\n",
      "                                      'further': [{'facets': ['0/347',\n",
      "                                                              '1/347/243'],\n",
      "                                                   'normalized': '347/243',\n",
      "                                                   'raw': '347243'},\n",
      "                                                  {'facets': ['0/347',\n",
      "                                                              '1/347/244'],\n",
      "                                                   'normalized': '347/244',\n",
      "                                                   'raw': '347244'},\n",
      "                                                  {'facets': ['0/347',\n",
      "                                                              '1/347/259'],\n",
      "                                                   'normalized': '347/259',\n",
      "                                                   'raw': '347259'},\n",
      "                                                  {'facets': ['0/359',\n",
      "                                                              '1/359/204'],\n",
      "                                                   'normalized': '359/204',\n",
      "                                                   'raw': '359204'},\n",
      "                                                  {'facets': ['0/359',\n",
      "                                                              '1/359/216'],\n",
      "                                                   'normalized': '359/216',\n",
      "                                                   'raw': '359216'}],\n",
      "                                      'main': [{'facets': ['0/359',\n",
      "                                                           '1/359/207'],\n",
      "                                                'normalized': '359/207',\n",
      "                                                'raw': '359207'}]}},\n",
      " 'patentCorpus': 'USPAT',\n",
      " 'search_classification': {'cpc': {'additional': [], 'inventive': []},\n",
      "                           'ipc': {'additional': [], 'inventive': []},\n",
      "                           'locarno': [],\n",
      "                           'uspc': {'further': [], 'main': []}},\n",
      " 'title': 'Scanning Optical System'}\n"
     ]
    }
   ],
   "source": [
    "pprint(test_patent := patent_db.find_one({\"documentId\":\"06958839\"}))"
   ]
  },
  {
   "cell_type": "markdown",
   "id": "ranking-scheme",
   "metadata": {},
   "source": [
    "### Example of the same patent label"
   ]
  },
  {
   "cell_type": "code",
   "execution_count": 13,
   "id": "honey-annual",
   "metadata": {},
   "outputs": [
    {
     "name": "stdout",
     "output_type": "stream",
     "text": [
      "{'ActiveLearningPatent': 'Yes',\n",
      " 'MachineLearningPatent': 'Yes',\n",
      " '__v': 0,\n",
      " '_id': ObjectId('6010861261ff287238a5c280'),\n",
      " 'document': '06958839'}\n"
     ]
    }
   ],
   "source": [
    "pprint(test_label := labels_db.find_one({\"document\":\"06958839\"}))"
   ]
  },
  {
   "cell_type": "markdown",
   "id": "violent-thomas",
   "metadata": {},
   "source": [
    "### Sample of an Ideal entry"
   ]
  },
  {
   "cell_type": "code",
   "execution_count": 23,
   "id": "welcome-vessel",
   "metadata": {},
   "outputs": [
    {
     "name": "stdout",
     "output_type": "stream",
     "text": [
      "Patent#: 06958839\n",
      "\n",
      "Title: Scanning Optical System\n",
      "\n",
      "Abstract: \\n   A scanning optical system is configured to include a light source, an anamorphic optical element, a polygonal mirror, and an imaging optical system. The imaging optical system has a scanning lens including a first lens provided on a polygonal mirror side and a second lens provided on a surface side, and a compensation lens provided on the surface side with respect to the scanning lens, the compensation lens compensating for curvature of field. The scanning lens includes at least one convex surface that has a toric surface having a stronger power in the auxiliary scanning direction than in the main scanning direction. One surface of the compensation lens has an anamorphic aspherical surface, which is a surface whose radius of curvature in the auxiliary scanning direction at a point spaced from the optical axis thereof is determined independently from a cross-sectional shape thereof along the main scanning direction.\\n\n",
      "\n",
      "Active Learning: Yes\n",
      "\n",
      "Machine Learning: Yes\n"
     ]
    }
   ],
   "source": [
    "print(\n",
    "f'''Patent#: {test_label[\"document\"]}\\n\n",
    "Title: {test_patent[\"title\"]}\\n\n",
    "Abstract: {test_patent[\"abstract\"]}\\n\n",
    "Active Learning: {test_label[\"ActiveLearningPatent\"]}\\n\n",
    "Machine Learning: {test_label[\"MachineLearningPatent\"]}''')"
   ]
  },
  {
   "cell_type": "markdown",
   "id": "conscious-hearts",
   "metadata": {},
   "source": [
    "### Simple way to iterate through all patents objects"
   ]
  },
  {
   "cell_type": "code",
   "execution_count": 35,
   "id": "rolled-houston",
   "metadata": {},
   "outputs": [
    {
     "name": "stdout",
     "output_type": "stream",
     "text": [
      "{'_id': ObjectId('6010861261ff287238a5c280'), 'document': '06958839', 'MachineLearningPatent': 'Yes', 'ActiveLearningPatent': 'Yes', '__v': 0}\n",
      "{'_id': ObjectId('6010862561ff287238a5c281'), 'document': '08051028', 'MachineLearningPatent': 'Yes', 'ActiveLearningPatent': 'Yes', '__v': 0}\n"
     ]
    }
   ],
   "source": [
    "# It seems that we do not have any document really labeled(?)\n",
    "for x in labels_db.find():\n",
    "    print(x)"
   ]
  },
  {
   "cell_type": "markdown",
   "id": "detailed-incentive",
   "metadata": {},
   "source": [
    "## Bag of Words Model"
   ]
  },
  {
   "cell_type": "markdown",
   "id": "southwest-dispute",
   "metadata": {},
   "source": [
    "### Lets create a sample dataset"
   ]
  },
  {
   "cell_type": "code",
   "execution_count": 107,
   "id": "baking-spray",
   "metadata": {},
   "outputs": [
    {
     "ename": "ServerSelectionTimeoutError",
     "evalue": "compute1.cognac.cs.fiu.edu:59122: [Errno -2] Name or service not known, Timeout: 30s, Topology Description: <TopologyDescription id: 6021036d3e083c0d6a870b8c, topology_type: Single, servers: [<ServerDescription ('compute1.cognac.cs.fiu.edu', 59122) server_type: Unknown, rtt: None, error=AutoReconnect('compute1.cognac.cs.fiu.edu:59122: [Errno -2] Name or service not known')>]>",
     "output_type": "error",
     "traceback": [
      "\u001b[0;31m---------------------------------------------------------------------------\u001b[0m",
      "\u001b[0;31mServerSelectionTimeoutError\u001b[0m               Traceback (most recent call last)",
      "\u001b[0;32m<ipython-input-107-b23e4c55bac2>\u001b[0m in \u001b[0;36m<module>\u001b[0;34m\u001b[0m\n\u001b[1;32m      1\u001b[0m \u001b[0mdata_list\u001b[0m \u001b[0;34m=\u001b[0m \u001b[0;34m[\u001b[0m\u001b[0;34m]\u001b[0m\u001b[0;34m\u001b[0m\u001b[0;34m\u001b[0m\u001b[0m\n\u001b[0;32m----> 2\u001b[0;31m \u001b[0;32mfor\u001b[0m \u001b[0mpatent\u001b[0m \u001b[0;32min\u001b[0m \u001b[0mpatent_db\u001b[0m\u001b[0;34m.\u001b[0m\u001b[0mfind\u001b[0m\u001b[0;34m(\u001b[0m\u001b[0;34m)\u001b[0m\u001b[0;34m.\u001b[0m\u001b[0mlimit\u001b[0m\u001b[0;34m(\u001b[0m\u001b[0;36m10\u001b[0m\u001b[0;34m)\u001b[0m\u001b[0;34m:\u001b[0m\u001b[0;34m\u001b[0m\u001b[0;34m\u001b[0m\u001b[0m\n\u001b[0m\u001b[1;32m      3\u001b[0m     \u001b[0;31m#data_list.append(patent)\u001b[0m\u001b[0;34m\u001b[0m\u001b[0;34m\u001b[0m\u001b[0;34m\u001b[0m\u001b[0m\n\u001b[1;32m      4\u001b[0m     \u001b[0mdata_list\u001b[0m\u001b[0;34m.\u001b[0m\u001b[0mappend\u001b[0m\u001b[0;34m(\u001b[0m\u001b[0;34m{\u001b[0m\u001b[0;34m\"id\"\u001b[0m\u001b[0;34m:\u001b[0m\u001b[0mpatent\u001b[0m\u001b[0;34m[\u001b[0m\u001b[0;34m\"documentId\"\u001b[0m\u001b[0;34m]\u001b[0m\u001b[0;34m,\u001b[0m\u001b[0;34m\"title\"\u001b[0m\u001b[0;34m:\u001b[0m\u001b[0mpatent\u001b[0m\u001b[0;34m[\u001b[0m\u001b[0;34m\"title\"\u001b[0m\u001b[0;34m]\u001b[0m\u001b[0;34m,\u001b[0m\u001b[0;34m\"abstract\"\u001b[0m\u001b[0;34m:\u001b[0m\u001b[0mpatent\u001b[0m\u001b[0;34m[\u001b[0m\u001b[0;34m\"abstract\"\u001b[0m\u001b[0;34m]\u001b[0m\u001b[0;34m[\u001b[0m\u001b[0;36m5\u001b[0m\u001b[0;34m:\u001b[0m\u001b[0;34m-\u001b[0m\u001b[0;36m4\u001b[0m\u001b[0;34m]\u001b[0m\u001b[0;34m,\u001b[0m \u001b[0;34m\"target\"\u001b[0m\u001b[0;34m:\u001b[0m\u001b[0;36m1\u001b[0m\u001b[0;34m}\u001b[0m\u001b[0;34m)\u001b[0m\u001b[0;34m\u001b[0m\u001b[0;34m\u001b[0m\u001b[0m\n\u001b[1;32m      5\u001b[0m \u001b[0mpprint\u001b[0m\u001b[0;34m(\u001b[0m\u001b[0mdata_list\u001b[0m\u001b[0;34m)\u001b[0m\u001b[0;34m\u001b[0m\u001b[0;34m\u001b[0m\u001b[0m\n",
      "\u001b[0;32m~/.local/lib/python3.9/site-packages/pymongo/cursor.py\u001b[0m in \u001b[0;36mnext\u001b[0;34m(self)\u001b[0m\n\u001b[1;32m   1205\u001b[0m         \u001b[0;32mif\u001b[0m \u001b[0mself\u001b[0m\u001b[0;34m.\u001b[0m\u001b[0m__empty\u001b[0m\u001b[0;34m:\u001b[0m\u001b[0;34m\u001b[0m\u001b[0;34m\u001b[0m\u001b[0m\n\u001b[1;32m   1206\u001b[0m             \u001b[0;32mraise\u001b[0m \u001b[0mStopIteration\u001b[0m\u001b[0;34m\u001b[0m\u001b[0;34m\u001b[0m\u001b[0m\n\u001b[0;32m-> 1207\u001b[0;31m         \u001b[0;32mif\u001b[0m \u001b[0mlen\u001b[0m\u001b[0;34m(\u001b[0m\u001b[0mself\u001b[0m\u001b[0;34m.\u001b[0m\u001b[0m__data\u001b[0m\u001b[0;34m)\u001b[0m \u001b[0;32mor\u001b[0m \u001b[0mself\u001b[0m\u001b[0;34m.\u001b[0m\u001b[0m_refresh\u001b[0m\u001b[0;34m(\u001b[0m\u001b[0;34m)\u001b[0m\u001b[0;34m:\u001b[0m\u001b[0;34m\u001b[0m\u001b[0;34m\u001b[0m\u001b[0m\n\u001b[0m\u001b[1;32m   1208\u001b[0m             \u001b[0;32mif\u001b[0m \u001b[0mself\u001b[0m\u001b[0;34m.\u001b[0m\u001b[0m__manipulate\u001b[0m\u001b[0;34m:\u001b[0m\u001b[0;34m\u001b[0m\u001b[0;34m\u001b[0m\u001b[0m\n\u001b[1;32m   1209\u001b[0m                 \u001b[0m_db\u001b[0m \u001b[0;34m=\u001b[0m \u001b[0mself\u001b[0m\u001b[0;34m.\u001b[0m\u001b[0m__collection\u001b[0m\u001b[0;34m.\u001b[0m\u001b[0mdatabase\u001b[0m\u001b[0;34m\u001b[0m\u001b[0;34m\u001b[0m\u001b[0m\n",
      "\u001b[0;32m~/.local/lib/python3.9/site-packages/pymongo/cursor.py\u001b[0m in \u001b[0;36m_refresh\u001b[0;34m(self)\u001b[0m\n\u001b[1;32m   1098\u001b[0m \u001b[0;34m\u001b[0m\u001b[0m\n\u001b[1;32m   1099\u001b[0m         \u001b[0;32mif\u001b[0m \u001b[0;32mnot\u001b[0m \u001b[0mself\u001b[0m\u001b[0;34m.\u001b[0m\u001b[0m__session\u001b[0m\u001b[0;34m:\u001b[0m\u001b[0;34m\u001b[0m\u001b[0;34m\u001b[0m\u001b[0m\n\u001b[0;32m-> 1100\u001b[0;31m             \u001b[0mself\u001b[0m\u001b[0;34m.\u001b[0m\u001b[0m__session\u001b[0m \u001b[0;34m=\u001b[0m \u001b[0mself\u001b[0m\u001b[0;34m.\u001b[0m\u001b[0m__collection\u001b[0m\u001b[0;34m.\u001b[0m\u001b[0mdatabase\u001b[0m\u001b[0;34m.\u001b[0m\u001b[0mclient\u001b[0m\u001b[0;34m.\u001b[0m\u001b[0m_ensure_session\u001b[0m\u001b[0;34m(\u001b[0m\u001b[0;34m)\u001b[0m\u001b[0;34m\u001b[0m\u001b[0;34m\u001b[0m\u001b[0m\n\u001b[0m\u001b[1;32m   1101\u001b[0m \u001b[0;34m\u001b[0m\u001b[0m\n\u001b[1;32m   1102\u001b[0m         \u001b[0;32mif\u001b[0m \u001b[0mself\u001b[0m\u001b[0;34m.\u001b[0m\u001b[0m__id\u001b[0m \u001b[0;32mis\u001b[0m \u001b[0;32mNone\u001b[0m\u001b[0;34m:\u001b[0m  \u001b[0;31m# Query\u001b[0m\u001b[0;34m\u001b[0m\u001b[0;34m\u001b[0m\u001b[0m\n",
      "\u001b[0;32m~/.local/lib/python3.9/site-packages/pymongo/mongo_client.py\u001b[0m in \u001b[0;36m_ensure_session\u001b[0;34m(self, session)\u001b[0m\n\u001b[1;32m   1814\u001b[0m             \u001b[0;31m# Don't make implicit sessions causally consistent. Applications\u001b[0m\u001b[0;34m\u001b[0m\u001b[0;34m\u001b[0m\u001b[0;34m\u001b[0m\u001b[0m\n\u001b[1;32m   1815\u001b[0m             \u001b[0;31m# should always opt-in.\u001b[0m\u001b[0;34m\u001b[0m\u001b[0;34m\u001b[0m\u001b[0;34m\u001b[0m\u001b[0m\n\u001b[0;32m-> 1816\u001b[0;31m             \u001b[0;32mreturn\u001b[0m \u001b[0mself\u001b[0m\u001b[0;34m.\u001b[0m\u001b[0m__start_session\u001b[0m\u001b[0;34m(\u001b[0m\u001b[0;32mTrue\u001b[0m\u001b[0;34m,\u001b[0m \u001b[0mcausal_consistency\u001b[0m\u001b[0;34m=\u001b[0m\u001b[0;32mFalse\u001b[0m\u001b[0;34m)\u001b[0m\u001b[0;34m\u001b[0m\u001b[0;34m\u001b[0m\u001b[0m\n\u001b[0m\u001b[1;32m   1817\u001b[0m         \u001b[0;32mexcept\u001b[0m \u001b[0;34m(\u001b[0m\u001b[0mConfigurationError\u001b[0m\u001b[0;34m,\u001b[0m \u001b[0mInvalidOperation\u001b[0m\u001b[0;34m)\u001b[0m\u001b[0;34m:\u001b[0m\u001b[0;34m\u001b[0m\u001b[0;34m\u001b[0m\u001b[0m\n\u001b[1;32m   1818\u001b[0m             \u001b[0;31m# Sessions not supported, or multiple users authenticated.\u001b[0m\u001b[0;34m\u001b[0m\u001b[0;34m\u001b[0m\u001b[0;34m\u001b[0m\u001b[0m\n",
      "\u001b[0;32m~/.local/lib/python3.9/site-packages/pymongo/mongo_client.py\u001b[0m in \u001b[0;36m__start_session\u001b[0;34m(self, implicit, **kwargs)\u001b[0m\n\u001b[1;32m   1764\u001b[0m \u001b[0;34m\u001b[0m\u001b[0m\n\u001b[1;32m   1765\u001b[0m         \u001b[0;31m# Raises ConfigurationError if sessions are not supported.\u001b[0m\u001b[0;34m\u001b[0m\u001b[0;34m\u001b[0m\u001b[0;34m\u001b[0m\u001b[0m\n\u001b[0;32m-> 1766\u001b[0;31m         \u001b[0mserver_session\u001b[0m \u001b[0;34m=\u001b[0m \u001b[0mself\u001b[0m\u001b[0;34m.\u001b[0m\u001b[0m_get_server_session\u001b[0m\u001b[0;34m(\u001b[0m\u001b[0;34m)\u001b[0m\u001b[0;34m\u001b[0m\u001b[0;34m\u001b[0m\u001b[0m\n\u001b[0m\u001b[1;32m   1767\u001b[0m         \u001b[0mopts\u001b[0m \u001b[0;34m=\u001b[0m \u001b[0mclient_session\u001b[0m\u001b[0;34m.\u001b[0m\u001b[0mSessionOptions\u001b[0m\u001b[0;34m(\u001b[0m\u001b[0;34m**\u001b[0m\u001b[0mkwargs\u001b[0m\u001b[0;34m)\u001b[0m\u001b[0;34m\u001b[0m\u001b[0;34m\u001b[0m\u001b[0m\n\u001b[1;32m   1768\u001b[0m         return client_session.ClientSession(\n",
      "\u001b[0;32m~/.local/lib/python3.9/site-packages/pymongo/mongo_client.py\u001b[0m in \u001b[0;36m_get_server_session\u001b[0;34m(self)\u001b[0m\n\u001b[1;32m   1800\u001b[0m     \u001b[0;32mdef\u001b[0m \u001b[0m_get_server_session\u001b[0m\u001b[0;34m(\u001b[0m\u001b[0mself\u001b[0m\u001b[0;34m)\u001b[0m\u001b[0;34m:\u001b[0m\u001b[0;34m\u001b[0m\u001b[0;34m\u001b[0m\u001b[0m\n\u001b[1;32m   1801\u001b[0m         \u001b[0;34m\"\"\"Internal: start or resume a _ServerSession.\"\"\"\u001b[0m\u001b[0;34m\u001b[0m\u001b[0;34m\u001b[0m\u001b[0m\n\u001b[0;32m-> 1802\u001b[0;31m         \u001b[0;32mreturn\u001b[0m \u001b[0mself\u001b[0m\u001b[0;34m.\u001b[0m\u001b[0m_topology\u001b[0m\u001b[0;34m.\u001b[0m\u001b[0mget_server_session\u001b[0m\u001b[0;34m(\u001b[0m\u001b[0;34m)\u001b[0m\u001b[0;34m\u001b[0m\u001b[0;34m\u001b[0m\u001b[0m\n\u001b[0m\u001b[1;32m   1803\u001b[0m \u001b[0;34m\u001b[0m\u001b[0m\n\u001b[1;32m   1804\u001b[0m     \u001b[0;32mdef\u001b[0m \u001b[0m_return_server_session\u001b[0m\u001b[0;34m(\u001b[0m\u001b[0mself\u001b[0m\u001b[0;34m,\u001b[0m \u001b[0mserver_session\u001b[0m\u001b[0;34m,\u001b[0m \u001b[0mlock\u001b[0m\u001b[0;34m)\u001b[0m\u001b[0;34m:\u001b[0m\u001b[0;34m\u001b[0m\u001b[0;34m\u001b[0m\u001b[0m\n",
      "\u001b[0;32m~/.local/lib/python3.9/site-packages/pymongo/topology.py\u001b[0m in \u001b[0;36mget_server_session\u001b[0;34m(self)\u001b[0m\n\u001b[1;32m    483\u001b[0m                 \u001b[0;32mif\u001b[0m \u001b[0mself\u001b[0m\u001b[0;34m.\u001b[0m\u001b[0m_description\u001b[0m\u001b[0;34m.\u001b[0m\u001b[0mtopology_type\u001b[0m \u001b[0;34m==\u001b[0m \u001b[0mTOPOLOGY_TYPE\u001b[0m\u001b[0;34m.\u001b[0m\u001b[0mSingle\u001b[0m\u001b[0;34m:\u001b[0m\u001b[0;34m\u001b[0m\u001b[0;34m\u001b[0m\u001b[0m\n\u001b[1;32m    484\u001b[0m                     \u001b[0;32mif\u001b[0m \u001b[0;32mnot\u001b[0m \u001b[0mself\u001b[0m\u001b[0;34m.\u001b[0m\u001b[0m_description\u001b[0m\u001b[0;34m.\u001b[0m\u001b[0mhas_known_servers\u001b[0m\u001b[0;34m:\u001b[0m\u001b[0;34m\u001b[0m\u001b[0;34m\u001b[0m\u001b[0m\n\u001b[0;32m--> 485\u001b[0;31m                         self._select_servers_loop(\n\u001b[0m\u001b[1;32m    486\u001b[0m                             \u001b[0many_server_selector\u001b[0m\u001b[0;34m,\u001b[0m\u001b[0;34m\u001b[0m\u001b[0;34m\u001b[0m\u001b[0m\n\u001b[1;32m    487\u001b[0m                             \u001b[0mself\u001b[0m\u001b[0;34m.\u001b[0m\u001b[0m_settings\u001b[0m\u001b[0;34m.\u001b[0m\u001b[0mserver_selection_timeout\u001b[0m\u001b[0;34m,\u001b[0m\u001b[0;34m\u001b[0m\u001b[0;34m\u001b[0m\u001b[0m\n",
      "\u001b[0;32m~/.local/lib/python3.9/site-packages/pymongo/topology.py\u001b[0m in \u001b[0;36m_select_servers_loop\u001b[0;34m(self, selector, timeout, address)\u001b[0m\n\u001b[1;32m    213\u001b[0m             \u001b[0;31m# No suitable servers.\u001b[0m\u001b[0;34m\u001b[0m\u001b[0;34m\u001b[0m\u001b[0;34m\u001b[0m\u001b[0m\n\u001b[1;32m    214\u001b[0m             \u001b[0;32mif\u001b[0m \u001b[0mtimeout\u001b[0m \u001b[0;34m==\u001b[0m \u001b[0;36m0\u001b[0m \u001b[0;32mor\u001b[0m \u001b[0mnow\u001b[0m \u001b[0;34m>\u001b[0m \u001b[0mend_time\u001b[0m\u001b[0;34m:\u001b[0m\u001b[0;34m\u001b[0m\u001b[0;34m\u001b[0m\u001b[0m\n\u001b[0;32m--> 215\u001b[0;31m                 raise ServerSelectionTimeoutError(\n\u001b[0m\u001b[1;32m    216\u001b[0m                     \u001b[0;34m\"%s, Timeout: %ss, Topology Description: %r\"\u001b[0m \u001b[0;34m%\u001b[0m\u001b[0;34m\u001b[0m\u001b[0;34m\u001b[0m\u001b[0m\n\u001b[1;32m    217\u001b[0m                     (self._error_message(selector), timeout, self.description))\n",
      "\u001b[0;31mServerSelectionTimeoutError\u001b[0m: compute1.cognac.cs.fiu.edu:59122: [Errno -2] Name or service not known, Timeout: 30s, Topology Description: <TopologyDescription id: 6021036d3e083c0d6a870b8c, topology_type: Single, servers: [<ServerDescription ('compute1.cognac.cs.fiu.edu', 59122) server_type: Unknown, rtt: None, error=AutoReconnect('compute1.cognac.cs.fiu.edu:59122: [Errno -2] Name or service not known')>]>"
     ]
    }
   ],
   "source": [
    "data_list = []\n",
    "for patent in patent_db.find().limit(10):\n",
    "    #data_list.append(patent)\n",
    "    data_list.append({\"id\":patent[\"documentId\"],\"title\":patent[\"title\"],\"abstract\":patent[\"abstract\"][5:-4], \"target\":1})\n",
    "pprint(data_list)"
   ]
  },
  {
   "cell_type": "markdown",
   "id": "applied-sharing",
   "metadata": {},
   "source": [
    "### New Imports"
   ]
  },
  {
   "cell_type": "code",
   "execution_count": 84,
   "id": "integral-communist",
   "metadata": {},
   "outputs": [],
   "source": [
    "import sklearn\n",
    "import pandas as pd\n",
    "from sklearn.feature_extraction.text import CountVectorizer"
   ]
  },
  {
   "cell_type": "code",
   "execution_count": 75,
   "id": "therapeutic-negative",
   "metadata": {},
   "outputs": [
    {
     "data": {
      "text/plain": [
       "CountVectorizer()"
      ]
     },
     "execution_count": 75,
     "metadata": {},
     "output_type": "execute_result"
    }
   ],
   "source": [
    "titles = [x[\"title\"] for x in data_list]\n",
    "vect = CountVectorizer()\n",
    "vect.fit(titles)"
   ]
  },
  {
   "cell_type": "code",
   "execution_count": 78,
   "id": "charged-woman",
   "metadata": {},
   "outputs": [
    {
     "name": "stdout",
     "output_type": "stream",
     "text": [
      "{'connectors': 7, 'with': 48, 'primary': 31, 'and': 1, 'secondary': 35, 'lock': 23, 'structure': 39, 'fire': 14, 'protection': 32, 'apparatus': 2, 'polyhydroxyl': 29, 'monosulfoxide': 25, 'shampoo': 36, 'compositions': 5, 'differential': 8, 'amplifier': 0, 'light': 22, 'concrete': 6, 'method': 24, 'of': 27, 'preparing': 30, 'the': 42, 'same': 34, 'display': 9, 'arrangements': 3, 'employing': 10, 'thermochromic': 43, 'tiltable': 44, 'visor': 47, 'for': 15, 'helmets': 18, 'in': 19, 'particular': 28, 'motorcyclists': 26, 'similar': 37, 'system': 41, 'starting': 38, 'internal': 20, 'combustion': 4, 'engines': 12, 'hand': 16, 'held': 17, 'laser': 21, 'surveying': 40, 'rod': 33, 'variable': 46, 'valve': 45, 'event': 13, 'engine': 11}\n"
     ]
    }
   ],
   "source": [
    "print(vect.vocabulary_)"
   ]
  },
  {
   "cell_type": "code",
   "execution_count": 79,
   "id": "gorgeous-fortune",
   "metadata": {},
   "outputs": [],
   "source": [
    "bag_of_words = vect.transform(titles)"
   ]
  },
  {
   "cell_type": "code",
   "execution_count": 81,
   "id": "under-hunger",
   "metadata": {},
   "outputs": [
    {
     "name": "stdout",
     "output_type": "stream",
     "text": [
      "  (0, 1)\t1\n",
      "  (0, 7)\t1\n",
      "  (0, 23)\t1\n",
      "  (0, 31)\t1\n",
      "  (0, 35)\t1\n",
      "  (0, 39)\t1\n",
      "  (0, 48)\t1\n",
      "  (1, 2)\t1\n",
      "  (1, 14)\t1\n",
      "  (1, 32)\t1\n",
      "  (2, 5)\t1\n",
      "  (2, 25)\t1\n",
      "  (2, 29)\t1\n",
      "  (2, 36)\t1\n",
      "  (3, 0)\t1\n",
      "  (3, 8)\t1\n",
      "  (4, 1)\t1\n",
      "  (4, 6)\t1\n",
      "  (4, 22)\t1\n",
      "  (4, 24)\t1\n",
      "  (4, 27)\t1\n",
      "  (4, 30)\t1\n",
      "  (4, 34)\t1\n",
      "  (4, 42)\t1\n",
      "  (5, 3)\t1\n",
      "  :\t:\n",
      "  (5, 43)\t1\n",
      "  (6, 1)\t1\n",
      "  (6, 15)\t1\n",
      "  (6, 18)\t2\n",
      "  (6, 19)\t1\n",
      "  (6, 26)\t1\n",
      "  (6, 28)\t1\n",
      "  (6, 37)\t1\n",
      "  (6, 44)\t1\n",
      "  (6, 47)\t1\n",
      "  (7, 4)\t1\n",
      "  (7, 12)\t1\n",
      "  (7, 15)\t1\n",
      "  (7, 20)\t1\n",
      "  (7, 38)\t1\n",
      "  (7, 41)\t1\n",
      "  (8, 16)\t1\n",
      "  (8, 17)\t1\n",
      "  (8, 21)\t1\n",
      "  (8, 33)\t1\n",
      "  (8, 40)\t1\n",
      "  (9, 11)\t1\n",
      "  (9, 13)\t1\n",
      "  (9, 45)\t1\n",
      "  (9, 46)\t1\n"
     ]
    }
   ],
   "source": [
    "print(bag_of_words)"
   ]
  },
  {
   "cell_type": "code",
   "execution_count": 82,
   "id": "marked-macro",
   "metadata": {},
   "outputs": [
    {
     "name": "stdout",
     "output_type": "stream",
     "text": [
      "[[0 1 0 0 0 0 0 1 0 0 0 0 0 0 0 0 0 0 0 0 0 0 0 1 0 0 0 0 0 0 0 1 0 0 0 1\n",
      "  0 0 0 1 0 0 0 0 0 0 0 0 1]\n",
      " [0 0 1 0 0 0 0 0 0 0 0 0 0 0 1 0 0 0 0 0 0 0 0 0 0 0 0 0 0 0 0 0 1 0 0 0\n",
      "  0 0 0 0 0 0 0 0 0 0 0 0 0]\n",
      " [0 0 0 0 0 1 0 0 0 0 0 0 0 0 0 0 0 0 0 0 0 0 0 0 0 1 0 0 0 1 0 0 0 0 0 0\n",
      "  1 0 0 0 0 0 0 0 0 0 0 0 0]\n",
      " [1 0 0 0 0 0 0 0 1 0 0 0 0 0 0 0 0 0 0 0 0 0 0 0 0 0 0 0 0 0 0 0 0 0 0 0\n",
      "  0 0 0 0 0 0 0 0 0 0 0 0 0]\n",
      " [0 1 0 0 0 0 1 0 0 0 0 0 0 0 0 0 0 0 0 0 0 0 1 0 1 0 0 1 0 0 1 0 0 0 1 0\n",
      "  0 0 0 0 0 0 1 0 0 0 0 0 0]\n",
      " [0 0 0 1 0 1 0 0 0 1 1 0 0 0 0 0 0 0 0 0 0 0 0 0 0 0 0 0 0 0 0 0 0 0 0 0\n",
      "  0 0 0 0 0 0 0 1 0 0 0 0 0]\n",
      " [0 1 0 0 0 0 0 0 0 0 0 0 0 0 0 1 0 0 2 1 0 0 0 0 0 0 1 0 1 0 0 0 0 0 0 0\n",
      "  0 1 0 0 0 0 0 0 1 0 0 1 0]\n",
      " [0 0 0 0 1 0 0 0 0 0 0 0 1 0 0 1 0 0 0 0 1 0 0 0 0 0 0 0 0 0 0 0 0 0 0 0\n",
      "  0 0 1 0 0 1 0 0 0 0 0 0 0]\n",
      " [0 0 0 0 0 0 0 0 0 0 0 0 0 0 0 0 1 1 0 0 0 1 0 0 0 0 0 0 0 0 0 0 0 1 0 0\n",
      "  0 0 0 0 1 0 0 0 0 0 0 0 0]\n",
      " [0 0 0 0 0 0 0 0 0 0 0 1 0 1 0 0 0 0 0 0 0 0 0 0 0 0 0 0 0 0 0 0 0 0 0 0\n",
      "  0 0 0 0 0 0 0 0 0 1 1 0 0]]\n"
     ]
    }
   ],
   "source": [
    "print(bag_of_words.toarray())"
   ]
  },
  {
   "cell_type": "code",
   "execution_count": 101,
   "id": "orange-fisher",
   "metadata": {},
   "outputs": [],
   "source": [
    "data_frame = pd.DataFrame(data_list)"
   ]
  },
  {
   "cell_type": "code",
   "execution_count": 104,
   "id": "growing-copyright",
   "metadata": {},
   "outputs": [
    {
     "data": {
      "text/html": [
       "<div>\n",
       "<style scoped>\n",
       "    .dataframe tbody tr th:only-of-type {\n",
       "        vertical-align: middle;\n",
       "    }\n",
       "\n",
       "    .dataframe tbody tr th {\n",
       "        vertical-align: top;\n",
       "    }\n",
       "\n",
       "    .dataframe thead th {\n",
       "        text-align: right;\n",
       "    }\n",
       "</style>\n",
       "<table border=\"1\" class=\"dataframe\">\n",
       "  <thead>\n",
       "    <tr style=\"text-align: right;\">\n",
       "      <th></th>\n",
       "      <th>id</th>\n",
       "      <th>title</th>\n",
       "      <th>abstract</th>\n",
       "      <th>target</th>\n",
       "    </tr>\n",
       "  </thead>\n",
       "  <tbody>\n",
       "    <tr>\n",
       "      <th>0</th>\n",
       "      <td>04017141</td>\n",
       "      <td>Connectors with Primary and Secondary Lock Str...</td>\n",
       "      <td>Electrical connectors include an insulating h...</td>\n",
       "      <td>1</td>\n",
       "    </tr>\n",
       "    <tr>\n",
       "      <th>1</th>\n",
       "      <td>04058167</td>\n",
       "      <td>Fire Protection Apparatus</td>\n",
       "      <td>Fire protection apparatus having a conduit fo...</td>\n",
       "      <td>1</td>\n",
       "    </tr>\n",
       "    <tr>\n",
       "      <th>2</th>\n",
       "      <td>04058629</td>\n",
       "      <td>Polyhydroxyl Monosulfoxide Shampoo Compositions</td>\n",
       "      <td>A polyhydroxyl monosulfoxide surfactant, usef...</td>\n",
       "      <td>1</td>\n",
       "    </tr>\n",
       "    <tr>\n",
       "      <th>3</th>\n",
       "      <td>04078206</td>\n",
       "      <td>Differential Amplifier</td>\n",
       "      <td>Source-coupled first and second FET's arrange...</td>\n",
       "      <td>1</td>\n",
       "    </tr>\n",
       "    <tr>\n",
       "      <th>4</th>\n",
       "      <td>04126470</td>\n",
       "      <td>Light Concrete and Method of Preparing the Same</td>\n",
       "      <td>A light concrete prepared from a mixture of P...</td>\n",
       "      <td>1</td>\n",
       "    </tr>\n",
       "    <tr>\n",
       "      <th>5</th>\n",
       "      <td>04142782</td>\n",
       "      <td>Display Arrangements Employing Thermochromic C...</td>\n",
       "      <td>Display arrangements useful as art forms and ...</td>\n",
       "      <td>1</td>\n",
       "    </tr>\n",
       "    <tr>\n",
       "      <th>6</th>\n",
       "      <td>04223410</td>\n",
       "      <td>Tiltable Visor for Helmets, in Particular Moto...</td>\n",
       "      <td>This invention concerns a tiltable shield or ...</td>\n",
       "      <td>1</td>\n",
       "    </tr>\n",
       "    <tr>\n",
       "      <th>7</th>\n",
       "      <td>04232521</td>\n",
       "      <td>System for Starting Internal Combustion Engines</td>\n",
       "      <td>A system for starting internal combustion eng...</td>\n",
       "      <td>1</td>\n",
       "    </tr>\n",
       "    <tr>\n",
       "      <th>8</th>\n",
       "      <td>04240208</td>\n",
       "      <td>Hand-Held Laser Surveying Rod</td>\n",
       "      <td>A telescoping surveying rod carries on its up...</td>\n",
       "      <td>1</td>\n",
       "    </tr>\n",
       "    <tr>\n",
       "      <th>9</th>\n",
       "      <td>04253434</td>\n",
       "      <td>Variable Valve Event Engine</td>\n",
       "      <td>A variable valve event engine has a plurality...</td>\n",
       "      <td>1</td>\n",
       "    </tr>\n",
       "  </tbody>\n",
       "</table>\n",
       "</div>"
      ],
      "text/plain": [
       "         id                                              title  \\\n",
       "0  04017141  Connectors with Primary and Secondary Lock Str...   \n",
       "1  04058167                          Fire Protection Apparatus   \n",
       "2  04058629    Polyhydroxyl Monosulfoxide Shampoo Compositions   \n",
       "3  04078206                             Differential Amplifier   \n",
       "4  04126470    Light Concrete and Method of Preparing the Same   \n",
       "5  04142782  Display Arrangements Employing Thermochromic C...   \n",
       "6  04223410  Tiltable Visor for Helmets, in Particular Moto...   \n",
       "7  04232521    System for Starting Internal Combustion Engines   \n",
       "8  04240208                      Hand-Held Laser Surveying Rod   \n",
       "9  04253434                        Variable Valve Event Engine   \n",
       "\n",
       "                                            abstract  target  \n",
       "0   Electrical connectors include an insulating h...       1  \n",
       "1   Fire protection apparatus having a conduit fo...       1  \n",
       "2   A polyhydroxyl monosulfoxide surfactant, usef...       1  \n",
       "3   Source-coupled first and second FET's arrange...       1  \n",
       "4   A light concrete prepared from a mixture of P...       1  \n",
       "5   Display arrangements useful as art forms and ...       1  \n",
       "6   This invention concerns a tiltable shield or ...       1  \n",
       "7   A system for starting internal combustion eng...       1  \n",
       "8   A telescoping surveying rod carries on its up...       1  \n",
       "9   A variable valve event engine has a plurality...       1  "
      ]
     },
     "execution_count": 104,
     "metadata": {},
     "output_type": "execute_result"
    }
   ],
   "source": [
    "data_frame"
   ]
  },
  {
   "cell_type": "code",
   "execution_count": null,
   "id": "important-cemetery",
   "metadata": {},
   "outputs": [],
   "source": [
    "vectorizer = CountVectorizer()"
   ]
  }
 ],
 "metadata": {
  "kernelspec": {
   "display_name": "Python 3",
   "language": "python",
   "name": "python3"
  },
  "language_info": {
   "codemirror_mode": {
    "name": "ipython",
    "version": 3
   },
   "file_extension": ".py",
   "mimetype": "text/x-python",
   "name": "python",
   "nbconvert_exporter": "python",
   "pygments_lexer": "ipython3",
   "version": "3.9.1"
  }
 },
 "nbformat": 4,
 "nbformat_minor": 5
}
