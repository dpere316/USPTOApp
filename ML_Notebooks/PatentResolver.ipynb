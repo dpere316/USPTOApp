{
 "cells": [
  {
   "cell_type": "markdown",
   "id": "still-possibility",
   "metadata": {},
   "source": [
    "# Patent Resolver By Angel"
   ]
  },
  {
   "cell_type": "code",
   "execution_count": 1,
   "id": "postal-chest",
   "metadata": {},
   "outputs": [],
   "source": [
    "from google_patent_scraper import scraper_class\n",
    "import lxml\n",
    "from pprint import pprint\n",
    "import requests\n",
    "import pandas as pd\n",
    "import json"
   ]
  },
  {
   "cell_type": "markdown",
   "id": "ranking-sunday",
   "metadata": {},
   "source": [
    "## Functions"
   ]
  },
  {
   "cell_type": "code",
   "execution_count": 67,
   "id": "dutch-tobacco",
   "metadata": {},
   "outputs": [],
   "source": [
    "def create_URL(search_criteria):\n",
    "    return f'https://patents.google.com/xhr/parse?text={str(search_criteria)}&cursor=0&exp='\n",
    "def find_appnum(data, id_):\n",
    "    r = data.loc[data['doc_id'].isin([id_])]\n",
    "    r = r['appnum']\n",
    "    #print(r.values)\n",
    "    try:\n",
    "        return str(r.values[0])\n",
    "    except:\n",
    "        return None\n",
    "def from_google_get_json(search_criteria):\n",
    "    response = requests.get(create_URL(search_criteria))\n",
    "    pprint(json_)\n",
    "    json_ = response.json()\n",
    "    if json_['error_no_patents_found']:\n",
    "        return None\n",
    "    else:\n",
    "        results = json_['results']\n",
    "        if len(result)>0:\n",
    "            print(json_)\n",
    "        result = results[0]\n",
    "        return result\n",
    "def from_uspto_get_json(search_criteria, oldpatentno):\n",
    "    url = f'https://api.patentsview.org/patents/query?q={{\"app_number\":\"{search_criteria}\"}}&f=[\"patent_abstract\",\"patent_title\",\"patent_number\"]'\n",
    "    response = requests.get(url)\n",
    "    if response.json()['patents'] is not None:\n",
    "        d = response.json()['patents'][0]\n",
    "        my_dict = {\"id\":d['patent_number'],'title':d['patent_title'],'abstract':d['patent_abstract']}\n",
    "        return (True, my_dict)\n",
    "    else:\n",
    "        #print(f'error {patentno}')\n",
    "        return (False, (oldpatentno,search_criteria))"
   ]
  },
  {
   "cell_type": "markdown",
   "id": "impaired-transcription",
   "metadata": {},
   "source": [
    "## Load Data"
   ]
  },
  {
   "cell_type": "code",
   "execution_count": 3,
   "id": "express-yugoslavia",
   "metadata": {},
   "outputs": [],
   "source": [
    "data = pd.read_csv(\"patents.csv\")"
   ]
  },
  {
   "cell_type": "code",
   "execution_count": 4,
   "id": "double-spanking",
   "metadata": {},
   "outputs": [],
   "source": [
    "with open('unsuccessfull.json') as f:\n",
    "    unsuccessful = json.load(f)"
   ]
  },
  {
   "cell_type": "code",
   "execution_count": 5,
   "id": "polar-cisco",
   "metadata": {},
   "outputs": [],
   "source": [
    "with open('successfull.json') as f:\n",
    "    successfull = json.load(f)"
   ]
  },
  {
   "cell_type": "code",
   "execution_count": 6,
   "id": "settled-halloween",
   "metadata": {},
   "outputs": [],
   "source": [
    "seeds_ = unsuccessful['seeds']\n",
    "antiseeds_ = unsuccessful['antiseeds']\n",
    "antiseeds = successfull['antiseeds']\n",
    "seeds = successfull['seeds']"
   ]
  },
  {
   "cell_type": "code",
   "execution_count": 33,
   "id": "happy-encoding",
   "metadata": {},
   "outputs": [
    {
     "name": "stdout",
     "output_type": "stream",
     "text": [
      "164\n"
     ]
    }
   ],
   "source": [
    "errors = []\n",
    "patents = []\n",
    "for pno in seeds_:\n",
    "    appnum = find_appnum(data, pno)\n",
    "    success, patent = from_uspto_get_json(appnum, pno)\n",
    "    if success:\n",
    "        patents.append(patent)\n",
    "    else:\n",
    "        errors.append(patent)\n",
    "print(len(errors))"
   ]
  },
  {
   "cell_type": "code",
   "execution_count": 34,
   "id": "present-significance",
   "metadata": {},
   "outputs": [],
   "source": [
    "final_patents = {'seeds':patents}\n",
    "final_errors = {'seeds':errors}"
   ]
  },
  {
   "cell_type": "code",
   "execution_count": 35,
   "id": "gothic-summary",
   "metadata": {},
   "outputs": [],
   "source": [
    "errors = []\n",
    "patents = []\n",
    "for pno in antiseeds_:\n",
    "    appnum = find_appnum(data, pno)\n",
    "    success, patent = from_uspto_get_json(appnum, pno)\n",
    "    if success:\n",
    "        patents.append(patent)\n",
    "    else:\n",
    "        errors.append(patent)"
   ]
  },
  {
   "cell_type": "code",
   "execution_count": 36,
   "id": "acquired-marketing",
   "metadata": {},
   "outputs": [],
   "source": [
    "final_patents['antiseeds'] = patents\n",
    "final_errors['antiseeds'] = errors"
   ]
  },
  {
   "cell_type": "code",
   "execution_count": 71,
   "id": "stopped-stage",
   "metadata": {},
   "outputs": [
    {
     "name": "stdout",
     "output_type": "stream",
     "text": [
      "736\n",
      "780\n"
     ]
    }
   ],
   "source": [
    "pprint(len(final_patents['seeds'])+len(seeds))\n",
    "pprint(len(final_patents['antiseeds'])+len(antiseeds))"
   ]
  },
  {
   "cell_type": "code",
   "execution_count": 72,
   "id": "expressed-strength",
   "metadata": {},
   "outputs": [],
   "source": [
    "# #pprint(final_errors['seeds'])\n",
    "# # for entry in final_errors['seeds']:\n",
    "# #     pprint(from_google_get_json(entry[1]))\n",
    "# search_criteria = final_errors['seeds'][1][1]\n",
    "# # print(search_criteria[1])\n",
    "# print(create_URL(search_criteria))\n",
    "# response = requests.get(create_URL(search_criteria))\n",
    "# # print(2)\n",
    "# json_ = response.json()\n",
    "# pprint(json_)"
   ]
  },
  {
   "cell_type": "code",
   "execution_count": 81,
   "id": "identical-arrest",
   "metadata": {},
   "outputs": [
    {
     "name": "stdout",
     "output_type": "stream",
     "text": [
      "736\n",
      "780\n"
     ]
    }
   ],
   "source": [
    "final_seeds = final_patents['seeds'] + seeds\n",
    "final_antiseeds = final_patents['antiseeds'] + antiseeds\n",
    "print(len(final_seeds))\n",
    "print(len(final_antiseeds))"
   ]
  },
  {
   "cell_type": "code",
   "execution_count": 82,
   "id": "amazing-python",
   "metadata": {},
   "outputs": [],
   "source": [
    "successfull = {\"seed\": final_seeds, \"antiseed\":final_antiseeds}"
   ]
  },
  {
   "cell_type": "code",
   "execution_count": 83,
   "id": "paperback-circle",
   "metadata": {},
   "outputs": [],
   "source": [
    "import json\n",
    "with open('successfull.json', 'w') as f:\n",
    "    json.dump(successfull, f)"
   ]
  },
  {
   "cell_type": "code",
   "execution_count": 86,
   "id": "empirical-commodity",
   "metadata": {},
   "outputs": [
    {
     "name": "stdout",
     "output_type": "stream",
     "text": [
      "120\n"
     ]
    }
   ],
   "source": [
    "print(len(final_errors['antiseeds']))"
   ]
  },
  {
   "cell_type": "code",
   "execution_count": 87,
   "id": "careful-theology",
   "metadata": {},
   "outputs": [],
   "source": [
    "import json\n",
    "with open('unsuccessfull.json', 'w') as f:\n",
    "    json.dump(final_errors, f)"
   ]
  }
 ],
 "metadata": {
  "kernelspec": {
   "display_name": "Python 3",
   "language": "python",
   "name": "python3"
  },
  "language_info": {
   "codemirror_mode": {
    "name": "ipython",
    "version": 3
   },
   "file_extension": ".py",
   "mimetype": "text/x-python",
   "name": "python",
   "nbconvert_exporter": "python",
   "pygments_lexer": "ipython3",
   "version": "3.9.1"
  }
 },
 "nbformat": 4,
 "nbformat_minor": 5
}
