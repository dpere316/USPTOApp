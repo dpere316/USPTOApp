{
 "cells": [
  {
   "cell_type": "code",
   "execution_count": 3,
   "id": "sorted-relations",
   "metadata": {},
   "outputs": [
    {
     "name": "stdout",
     "output_type": "stream",
     "text": [
      "http://patft.uspto.gov/netacgi/nph-Parser?Sect1=PTO1&Sect2=HITOFF&d=PALL&p=1&u=%2Fnetahtml%2FPTO%2Fsrchnum.htm&r=1&f=G&l=50&s1=20170169084.PN.&OS=PN/20170169084&RS=PN/20170169084\n"
     ]
    }
   ],
   "source": [
    "# patentno = 20170169084\n",
    "# print(f\"http://patft.uspto.gov/netacgi/nph-Parser?Sect1=PTO1&Sect2=HITOFF&d=PALL&p=1&u=%2Fnetahtml%2FPTO%2Fsrchnum.htm&r=1&f=G&l=50&s1={patentno}.PN.&OS=PN/{patentno}&RS=PN/{patentno}\")"
   ]
  },
  {
   "cell_type": "code",
   "execution_count": 42,
   "id": "female-marathon",
   "metadata": {},
   "outputs": [],
   "source": [
    "from google_patent_scraper import scraper_class\n",
    "import lxml\n",
    "from pprint import pprint"
   ]
  },
  {
   "cell_type": "code",
   "execution_count": 43,
   "id": "republican-velvet",
   "metadata": {},
   "outputs": [],
   "source": [
    "scraper=scraper_class() "
   ]
  },
  {
   "cell_type": "code",
   "execution_count": 44,
   "id": "occupational-companion",
   "metadata": {},
   "outputs": [],
   "source": [
    "scraper.add_patents('13911215')\n",
    "scraper.add_patents('20140032460')"
   ]
  },
  {
   "cell_type": "code",
   "execution_count": 45,
   "id": "injured-belize",
   "metadata": {},
   "outputs": [
    {
     "name": "stdout",
     "output_type": "stream",
     "text": [
      "https://patents.google.com/patent/13911215\n",
      "Patent: 13911215, Error Status Code : 404\n",
      "https://patents.google.com/patent/20140032460\n",
      "Patent: 20140032460, Error Status Code : 404\n"
     ]
    }
   ],
   "source": [
    "scraper.scrape_all_patents()"
   ]
  },
  {
   "cell_type": "code",
   "execution_count": 41,
   "id": "hispanic-account",
   "metadata": {},
   "outputs": [
    {
     "name": "stdout",
     "output_type": "stream",
     "text": [
      "{'20140032460': {},\n",
      " 'US8010428B2': {'abstract_text': '',\n",
      "                 'assignee_name_current': '[{\"assignee_name\": \"\\\\n    Visa USA '\n",
      "                                          'Inc\\\\n  \"}]',\n",
      "                 'assignee_name_orig': '[{\"assignee_name\": \"Visa USA Inc\"}]',\n",
      "                 'backward_cite_no_family': '[{\"patent_number\": \"US4114027A\", '\n",
      "                                            '\"priority_date\": \"1976-09-13\", '\n",
      "                                            '\"pub_date\": \"1978-09-12\"}, '\n",
      "                                            '{\"patent_number\": '\n",
      "                                            '\"US20060004746A1\", '\n",
      "                                            '\"priority_date\": \"1998-09-04\", '\n",
      "                                            '\"pub_date\": \"2006-01-05\"}, '\n",
      "                                            '{\"patent_number\": \"US7356541B1\", '\n",
      "                                            '\"priority_date\": \"1999-10-29\", '\n",
      "                                            '\"pub_date\": \"2008-04-08\"}, '\n",
      "                                            '{\"patent_number\": \"US6325285B1\", '\n",
      "                                            '\"priority_date\": \"1999-11-12\", '\n",
      "                                            '\"pub_date\": \"2001-12-04\"}, '\n",
      "                                            '{\"patent_number\": '\n",
      "                                            '\"US20070094154A1\", '\n",
      "                                            '\"priority_date\": \"2000-08-01\", '\n",
      "                                            '\"pub_date\": \"2007-04-26\"}, '\n",
      "                                            '{\"patent_number\": \"US7318049B2\", '\n",
      "                                            '\"priority_date\": \"2000-11-17\", '\n",
      "                                            '\"pub_date\": \"2008-01-08\"}, '\n",
      "                                            '{\"patent_number\": '\n",
      "                                            '\"US20040128243A1\", '\n",
      "                                            '\"priority_date\": \"2001-06-27\", '\n",
      "                                            '\"pub_date\": \"2004-07-01\"}, '\n",
      "                                            '{\"patent_number\": '\n",
      "                                            '\"US20030167207A1\", '\n",
      "                                            '\"priority_date\": \"2001-07-10\", '\n",
      "                                            '\"pub_date\": \"2003-09-04\"}, '\n",
      "                                            '{\"patent_number\": '\n",
      "                                            '\"US20030121969A1\", '\n",
      "                                            '\"priority_date\": \"2001-12-06\", '\n",
      "                                            '\"pub_date\": \"2003-07-03\"}, '\n",
      "                                            '{\"patent_number\": '\n",
      "                                            '\"US20050080726A1\", '\n",
      "                                            '\"priority_date\": \"2002-03-14\", '\n",
      "                                            '\"pub_date\": \"2005-04-14\"}, '\n",
      "                                            '{\"patent_number\": '\n",
      "                                            '\"US20050018670A1\", '\n",
      "                                            '\"priority_date\": \"2003-07-24\", '\n",
      "                                            '\"pub_date\": \"2005-01-27\"}, '\n",
      "                                            '{\"patent_number\": '\n",
      "                                            '\"US20070136211A1\", '\n",
      "                                            '\"priority_date\": \"2004-03-15\", '\n",
      "                                            '\"pub_date\": \"2007-06-14\"}, '\n",
      "                                            '{\"patent_number\": '\n",
      "                                            '\"US20060022033A1\", '\n",
      "                                            '\"priority_date\": \"2004-07-15\", '\n",
      "                                            '\"pub_date\": \"2006-02-02\"}, '\n",
      "                                            '{\"patent_number\": '\n",
      "                                            '\"US20080040285A1\", '\n",
      "                                            '\"priority_date\": \"2004-08-18\", '\n",
      "                                            '\"pub_date\": \"2008-02-14\"}, '\n",
      "                                            '{\"patent_number\": '\n",
      "                                            '\"WO2006077281A1\", '\n",
      "                                            '\"priority_date\": \"2005-01-18\", '\n",
      "                                            '\"pub_date\": \"2006-07-27\"}, '\n",
      "                                            '{\"patent_number\": '\n",
      "                                            '\"US20070055630A1\", '\n",
      "                                            '\"priority_date\": \"2005-09-06\", '\n",
      "                                            '\"pub_date\": \"2007-03-08\"}, '\n",
      "                                            '{\"patent_number\": '\n",
      "                                            '\"US20070205275A1\", '\n",
      "                                            '\"priority_date\": \"2006-03-06\", '\n",
      "                                            '\"pub_date\": \"2007-09-06\"}, '\n",
      "                                            '{\"patent_number\": '\n",
      "                                            '\"US20080058014A1\", '\n",
      "                                            '\"priority_date\": \"2006-09-01\", '\n",
      "                                            '\"pub_date\": \"2008-03-06\"}, '\n",
      "                                            '{\"patent_number\": '\n",
      "                                            '\"US20080103968A1\", '\n",
      "                                            '\"priority_date\": \"2006-10-31\", '\n",
      "                                            '\"pub_date\": \"2008-05-01\"}, '\n",
      "                                            '{\"patent_number\": '\n",
      "                                            '\"KR100795142B1\", \"priority_date\": '\n",
      "                                            '\"2007-09-21\", \"pub_date\": '\n",
      "                                            '\"2008-01-17\"}, {\"patent_number\": '\n",
      "                                            '\"US20090265273A1\", '\n",
      "                                            '\"priority_date\": \"2008-04-18\", '\n",
      "                                            '\"pub_date\": \"2009-10-22\"}]',\n",
      "                 'backward_cite_yes_family': '[{\"patent_number\": '\n",
      "                                             '\"US7542942B2\", \"priority_date\": '\n",
      "                                             '\"2001-07-10\", \"pub_date\": '\n",
      "                                             '\"2009-06-02\"}, {\"patent_number\": '\n",
      "                                             '\"US7657486B2\", \"priority_date\": '\n",
      "                                             '\"2005-12-09\", \"pub_date\": '\n",
      "                                             '\"2010-02-02\"}, {\"patent_number\": '\n",
      "                                             '\"US8469277B2\", \"priority_date\": '\n",
      "                                             '\"2006-07-28\", \"pub_date\": '\n",
      "                                             '\"2013-06-25\"}, {\"patent_number\": '\n",
      "                                             '\"US7962390B2\", \"priority_date\": '\n",
      "                                             '\"2008-06-05\", \"pub_date\": '\n",
      "                                             '\"2011-06-14\"}]',\n",
      "                 'filing_date': '',\n",
      "                 'forward_cite_no_family': '[{\"patent_number\": '\n",
      "                                           '\"US20090266881A1\", '\n",
      "                                           '\"priority_date\": \"2008-04-29\", '\n",
      "                                           '\"pub_date\": \"2009-10-29\"}, '\n",
      "                                           '{\"patent_number\": \"US8682717B2\", '\n",
      "                                           '\"priority_date\": \"2008-04-30\", '\n",
      "                                           '\"pub_date\": \"2014-03-25\"}, '\n",
      "                                           '{\"patent_number\": \"US8924308B1\", '\n",
      "                                           '\"priority_date\": \"2007-07-18\", '\n",
      "                                           '\"pub_date\": \"2014-12-30\"}, '\n",
      "                                           '{\"patent_number\": '\n",
      "                                           '\"US20150112870A1\", '\n",
      "                                           '\"priority_date\": \"2013-10-18\", '\n",
      "                                           '\"pub_date\": \"2015-04-23\"}]',\n",
      "                 'forward_cite_yes_family': '[{\"patent_number\": \"US8977567B2\", '\n",
      "                                            '\"priority_date\": \"2008-09-22\", '\n",
      "                                            '\"pub_date\": \"2015-03-10\"}, '\n",
      "                                            '{\"patent_number\": \"US9824355B2\", '\n",
      "                                            '\"priority_date\": \"2008-09-22\", '\n",
      "                                            '\"pub_date\": \"2017-11-21\"}, '\n",
      "                                            '{\"patent_number\": \"US10706402B2\", '\n",
      "                                            '\"priority_date\": \"2008-09-22\", '\n",
      "                                            '\"pub_date\": \"2020-07-07\"}, '\n",
      "                                            '{\"patent_number\": \"CA2697921C\", '\n",
      "                                            '\"priority_date\": \"2009-03-27\", '\n",
      "                                            '\"pub_date\": \"2019-09-24\"}, '\n",
      "                                            '{\"patent_number\": \"CN101866514B\", '\n",
      "                                            '\"priority_date\": \"2009-04-14\", '\n",
      "                                            '\"pub_date\": \"2014-12-17\"}, '\n",
      "                                            '{\"patent_number\": \"EP2556474A4\", '\n",
      "                                            '\"priority_date\": \"2010-04-05\", '\n",
      "                                            '\"pub_date\": \"2013-12-04\"}, '\n",
      "                                            '{\"patent_number\": \"SG183988A1\", '\n",
      "                                            '\"priority_date\": \"2010-04-09\", '\n",
      "                                            '\"pub_date\": \"2012-10-30\"}, '\n",
      "                                            '{\"patent_number\": \"US9311639B2\", '\n",
      "                                            '\"priority_date\": \"2014-02-11\", '\n",
      "                                            '\"pub_date\": \"2016-04-12\"}, '\n",
      "                                            '{\"patent_number\": \"CN106251520A\", '\n",
      "                                            '\"priority_date\": \"2016-07-20\", '\n",
      "                                            '\"pub_date\": \"2016-12-21\"}, '\n",
      "                                            '{\"patent_number\": '\n",
      "                                            '\"US20180349994A1\", '\n",
      "                                            '\"priority_date\": \"2017-05-31\", '\n",
      "                                            '\"pub_date\": \"2018-12-06\"}]',\n",
      "                 'grant_date': '2011-08-30',\n",
      "                 'inventor_name': '[{\"inventor_name\": \"Brian Maw\"}, '\n",
      "                                  '{\"inventor_name\": \"Ayman Hammad\"}]',\n",
      "                 'patent': 'US8010428B2',\n",
      "                 'priority_date': '2007-09-26',\n",
      "                 'pub_date': '2009-03-26',\n",
      "                 'url': 'https://patents.google.com/patent/US8010428B2'}}\n"
     ]
    }
   ],
   "source": [
    "pprint(scraper.parsed_patents)"
   ]
  }
 ],
 "metadata": {
  "kernelspec": {
   "display_name": "Python 3",
   "language": "python",
   "name": "python3"
  },
  "language_info": {
   "codemirror_mode": {
    "name": "ipython",
    "version": 3
   },
   "file_extension": ".py",
   "mimetype": "text/x-python",
   "name": "python",
   "nbconvert_exporter": "python",
   "pygments_lexer": "ipython3",
   "version": "3.9.1"
  }
 },
 "nbformat": 4,
 "nbformat_minor": 5
}
