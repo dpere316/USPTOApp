{
 "cells": [
  {
   "cell_type": "code",
   "execution_count": 12,
   "id": "transparent-pride",
   "metadata": {},
   "outputs": [],
   "source": [
    "import pandas as pd\n",
    "import json\n",
    "import numpy as np\n",
    "import sklearn\n",
    "#import matplotlib.pyplot as plt\n",
    "from sklearn.feature_extraction.text import CountVectorizer\n",
    "from sklearn.model_selection import train_test_split"
   ]
  },
  {
   "cell_type": "code",
   "execution_count": 2,
   "id": "beautiful-humanitarian",
   "metadata": {},
   "outputs": [],
   "source": [
    "with open('../successful.json') as f:\n",
    "    patents = json.load(f)"
   ]
  },
  {
   "cell_type": "code",
   "execution_count": 3,
   "id": "loose-database",
   "metadata": {},
   "outputs": [
    {
     "name": "stdout",
     "output_type": "stream",
     "text": [
      "780\n"
     ]
    }
   ],
   "source": [
    "print(len(patents['antiseed']))"
   ]
  },
  {
   "cell_type": "code",
   "execution_count": 5,
   "id": "initial-twelve",
   "metadata": {},
   "outputs": [],
   "source": [
    "seed_data = pd.DataFrame(patents['seed'])\n",
    "antiseed_data = pd.DataFrame(patents['antiseed'])"
   ]
  },
  {
   "cell_type": "code",
   "execution_count": 6,
   "id": "collectible-flight",
   "metadata": {},
   "outputs": [],
   "source": [
    "antiseed_data['seed'] = 0\n",
    "seed_data['seed'] = 1"
   ]
  },
  {
   "cell_type": "code",
   "execution_count": 7,
   "id": "extra-brush",
   "metadata": {},
   "outputs": [],
   "source": [
    "all_data = antiseed_data"
   ]
  },
  {
   "cell_type": "code",
   "execution_count": 8,
   "id": "wooden-subdivision",
   "metadata": {},
   "outputs": [],
   "source": [
    "all_data = all_data.append(seed_data)"
   ]
  },
  {
   "cell_type": "code",
   "execution_count": 9,
   "id": "changing-calcium",
   "metadata": {},
   "outputs": [],
   "source": [
    "all_data = all_data.reset_index(drop=True)"
   ]
  },
  {
   "cell_type": "markdown",
   "id": "australian-objective",
   "metadata": {},
   "source": [
    "# Prepare Data"
   ]
  },
  {
   "cell_type": "markdown",
   "id": "ruled-thanksgiving",
   "metadata": {},
   "source": [
    "## Create Sample"
   ]
  },
  {
   "cell_type": "code",
   "execution_count": 10,
   "id": "sixth-award",
   "metadata": {},
   "outputs": [],
   "source": [
    "# training_set = all_data.loc[all_data['seed']==1].sample(n=500).append(all_data.loc[all_data['seed']==0].sample(n=500))"
   ]
  },
  {
   "cell_type": "code",
   "execution_count": 11,
   "id": "introductory-empire",
   "metadata": {},
   "outputs": [
    {
     "data": {
      "text/html": [
       "<div>\n",
       "<style scoped>\n",
       "    .dataframe tbody tr th:only-of-type {\n",
       "        vertical-align: middle;\n",
       "    }\n",
       "\n",
       "    .dataframe tbody tr th {\n",
       "        vertical-align: top;\n",
       "    }\n",
       "\n",
       "    .dataframe thead th {\n",
       "        text-align: right;\n",
       "    }\n",
       "</style>\n",
       "<table border=\"1\" class=\"dataframe\">\n",
       "  <thead>\n",
       "    <tr style=\"text-align: right;\">\n",
       "      <th></th>\n",
       "      <th>id</th>\n",
       "      <th>title</th>\n",
       "      <th>abstract</th>\n",
       "      <th>seed</th>\n",
       "    </tr>\n",
       "  </thead>\n",
       "  <tbody>\n",
       "    <tr>\n",
       "      <th>0</th>\n",
       "      <td>7319635</td>\n",
       "      <td>Memory system with registered memory module an...</td>\n",
       "      <td>A memory module and related method are disclos...</td>\n",
       "      <td>0</td>\n",
       "    </tr>\n",
       "    <tr>\n",
       "      <th>1</th>\n",
       "      <td>7547047</td>\n",
       "      <td>Coupler and method of making molded coupler</td>\n",
       "      <td>A coupler device for fluid transport that incl...</td>\n",
       "      <td>0</td>\n",
       "    </tr>\n",
       "    <tr>\n",
       "      <th>2</th>\n",
       "      <td>8280734</td>\n",
       "      <td>Systems and arrangements for titling audio rec...</td>\n",
       "      <td>Generally methods for titling segments of reco...</td>\n",
       "      <td>0</td>\n",
       "    </tr>\n",
       "    <tr>\n",
       "      <th>3</th>\n",
       "      <td>8399370</td>\n",
       "      <td>Glass composition</td>\n",
       "      <td>A glass composition which is reduced in the am...</td>\n",
       "      <td>0</td>\n",
       "    </tr>\n",
       "    <tr>\n",
       "      <th>4</th>\n",
       "      <td>7094688</td>\n",
       "      <td>Method for manufacturing semiconductor device</td>\n",
       "      <td>A via hole is first formed, and an embedded ma...</td>\n",
       "      <td>0</td>\n",
       "    </tr>\n",
       "    <tr>\n",
       "      <th>...</th>\n",
       "      <td>...</td>\n",
       "      <td>...</td>\n",
       "      <td>...</td>\n",
       "      <td>...</td>\n",
       "    </tr>\n",
       "    <tr>\n",
       "      <th>1511</th>\n",
       "      <td>5519811</td>\n",
       "      <td>Neural network, processor, and pattern recogni...</td>\n",
       "      <td>Apparatus for realizing a neural network of a ...</td>\n",
       "      <td>1</td>\n",
       "    </tr>\n",
       "    <tr>\n",
       "      <th>1512</th>\n",
       "      <td>9052896</td>\n",
       "      <td>Adjusting mobile device state based on user in...</td>\n",
       "      <td>In one embodiment, when a computing system is ...</td>\n",
       "      <td>1</td>\n",
       "    </tr>\n",
       "    <tr>\n",
       "      <th>1513</th>\n",
       "      <td>8909574</td>\n",
       "      <td>Systems for matching sparkle appearance of coa...</td>\n",
       "      <td>This disclosure is directed to a process for p...</td>\n",
       "      <td>1</td>\n",
       "    </tr>\n",
       "    <tr>\n",
       "      <th>1514</th>\n",
       "      <td>5390261</td>\n",
       "      <td>Method and apparatus for pattern classificatio...</td>\n",
       "      <td>A method for pattern classification and, in pa...</td>\n",
       "      <td>1</td>\n",
       "    </tr>\n",
       "    <tr>\n",
       "      <th>1515</th>\n",
       "      <td>5826248</td>\n",
       "      <td>Neuronic cellular automaton and optimizer empl...</td>\n",
       "      <td>A cellular automaton part is provided with cel...</td>\n",
       "      <td>1</td>\n",
       "    </tr>\n",
       "  </tbody>\n",
       "</table>\n",
       "<p>1516 rows × 4 columns</p>\n",
       "</div>"
      ],
      "text/plain": [
       "           id                                              title  \\\n",
       "0     7319635  Memory system with registered memory module an...   \n",
       "1     7547047        Coupler and method of making molded coupler   \n",
       "2     8280734  Systems and arrangements for titling audio rec...   \n",
       "3     8399370                                  Glass composition   \n",
       "4     7094688      Method for manufacturing semiconductor device   \n",
       "...       ...                                                ...   \n",
       "1511  5519811  Neural network, processor, and pattern recogni...   \n",
       "1512  9052896  Adjusting mobile device state based on user in...   \n",
       "1513  8909574  Systems for matching sparkle appearance of coa...   \n",
       "1514  5390261  Method and apparatus for pattern classificatio...   \n",
       "1515  5826248  Neuronic cellular automaton and optimizer empl...   \n",
       "\n",
       "                                               abstract  seed  \n",
       "0     A memory module and related method are disclos...     0  \n",
       "1     A coupler device for fluid transport that incl...     0  \n",
       "2     Generally methods for titling segments of reco...     0  \n",
       "3     A glass composition which is reduced in the am...     0  \n",
       "4     A via hole is first formed, and an embedded ma...     0  \n",
       "...                                                 ...   ...  \n",
       "1511  Apparatus for realizing a neural network of a ...     1  \n",
       "1512  In one embodiment, when a computing system is ...     1  \n",
       "1513  This disclosure is directed to a process for p...     1  \n",
       "1514  A method for pattern classification and, in pa...     1  \n",
       "1515  A cellular automaton part is provided with cel...     1  \n",
       "\n",
       "[1516 rows x 4 columns]"
      ]
     },
     "execution_count": 11,
     "metadata": {},
     "output_type": "execute_result"
    }
   ],
   "source": [
    "np.bincount(all_data.seed[780:])\n",
    "#pd.set_option('display.max_rows', 100)\n",
    "all_data"
   ]
  },
  {
   "cell_type": "markdown",
   "id": "brave-response",
   "metadata": {},
   "source": [
    "780 antiseed 736 seed"
   ]
  },
  {
   "cell_type": "markdown",
   "id": "honey-essay",
   "metadata": {},
   "source": [
    "## Prepare Data"
   ]
  },
  {
   "cell_type": "code",
   "execution_count": null,
   "id": "industrial-office",
   "metadata": {},
   "outputs": [],
   "source": [
    "X_train, X_test, y_train, y_test = train_test_split()"
   ]
  }
 ],
 "metadata": {
  "kernelspec": {
   "display_name": "AL_env",
   "language": "python",
   "name": "al_env"
  },
  "language_info": {
   "codemirror_mode": {
    "name": "ipython",
    "version": 3
   },
   "file_extension": ".py",
   "mimetype": "text/x-python",
   "name": "python",
   "nbconvert_exporter": "python",
   "pygments_lexer": "ipython3",
   "version": "3.9.1"
  }
 },
 "nbformat": 4,
 "nbformat_minor": 5
}
