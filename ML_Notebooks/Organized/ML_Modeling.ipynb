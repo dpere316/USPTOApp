{
 "cells": [
  {
   "cell_type": "markdown",
   "id": "religious-south",
   "metadata": {},
   "source": [
    "# SVM Model"
   ]
  },
  {
   "cell_type": "code",
   "execution_count": 1,
   "id": "dimensional-particle",
   "metadata": {},
   "outputs": [],
   "source": [
    "import pandas as pd\n",
    "import json\n",
    "import numpy as np\n",
    "import sklearn\n",
    "#import matplotlib.pyplot as plt\n",
    "from sklearn.feature_extraction.text import CountVectorizer\n",
    "from sklearn.linear_model import LogisticRegression\n",
    "from sklearn.naive_bayes import MultinomialNB\n",
    "from sklearn.ensemble import RandomForestClassifier\n",
    "from sklearn.model_selection import GridSearchCV\n",
    "from sklearn.model_selection import train_test_split\n",
    "from sklearn.model_selection import cross_val_score\n",
    "from sklearn.metrics import confusion_matrix\n",
    "from sklearn import svm"
   ]
  },
  {
   "cell_type": "markdown",
   "id": "corrected-applicant",
   "metadata": {},
   "source": [
    "## Load Data"
   ]
  },
  {
   "cell_type": "code",
   "execution_count": 2,
   "id": "traditional-pickup",
   "metadata": {},
   "outputs": [],
   "source": [
    "with open('../successful.json') as f:\n",
    "    patents = json.load(f)"
   ]
  },
  {
   "cell_type": "code",
   "execution_count": 3,
   "id": "opposed-compromise",
   "metadata": {},
   "outputs": [
    {
     "name": "stdout",
     "output_type": "stream",
     "text": [
      "780\n"
     ]
    }
   ],
   "source": [
    "print(len(patents['antiseed']))"
   ]
  },
  {
   "cell_type": "code",
   "execution_count": 4,
   "id": "solar-quantum",
   "metadata": {},
   "outputs": [],
   "source": [
    "seed_data = pd.DataFrame(patents['seed'])\n",
    "antiseed_data = pd.DataFrame(patents['antiseed'])"
   ]
  },
  {
   "cell_type": "code",
   "execution_count": 5,
   "id": "economic-portsmouth",
   "metadata": {},
   "outputs": [],
   "source": [
    "antiseed_data['seed'] = 0\n",
    "seed_data['seed'] = 1"
   ]
  },
  {
   "cell_type": "code",
   "execution_count": 6,
   "id": "assured-hello",
   "metadata": {},
   "outputs": [],
   "source": [
    "all_data = antiseed_data"
   ]
  },
  {
   "cell_type": "code",
   "execution_count": 7,
   "id": "tested-singing",
   "metadata": {},
   "outputs": [],
   "source": [
    "all_data = all_data.append(seed_data)"
   ]
  },
  {
   "cell_type": "code",
   "execution_count": 8,
   "id": "challenging-browser",
   "metadata": {},
   "outputs": [],
   "source": [
    "all_data = all_data.reset_index(drop=True)"
   ]
  },
  {
   "cell_type": "markdown",
   "id": "affiliated-dependence",
   "metadata": {},
   "source": [
    "# Prepare Data"
   ]
  },
  {
   "cell_type": "markdown",
   "id": "incredible-pharmacology",
   "metadata": {},
   "source": [
    "## Create Sample"
   ]
  },
  {
   "cell_type": "code",
   "execution_count": 9,
   "id": "inner-collection",
   "metadata": {},
   "outputs": [],
   "source": [
    "# training_set = all_data.loc[all_data['seed']==1].sample(n=500).append(all_data.loc[all_data['seed']==0].sample(n=500))"
   ]
  },
  {
   "cell_type": "code",
   "execution_count": 10,
   "id": "opposed-deputy",
   "metadata": {},
   "outputs": [
    {
     "data": {
      "text/html": [
       "<div>\n",
       "<style scoped>\n",
       "    .dataframe tbody tr th:only-of-type {\n",
       "        vertical-align: middle;\n",
       "    }\n",
       "\n",
       "    .dataframe tbody tr th {\n",
       "        vertical-align: top;\n",
       "    }\n",
       "\n",
       "    .dataframe thead th {\n",
       "        text-align: right;\n",
       "    }\n",
       "</style>\n",
       "<table border=\"1\" class=\"dataframe\">\n",
       "  <thead>\n",
       "    <tr style=\"text-align: right;\">\n",
       "      <th></th>\n",
       "      <th>id</th>\n",
       "      <th>title</th>\n",
       "      <th>abstract</th>\n",
       "      <th>seed</th>\n",
       "    </tr>\n",
       "  </thead>\n",
       "  <tbody>\n",
       "    <tr>\n",
       "      <th>0</th>\n",
       "      <td>7319635</td>\n",
       "      <td>Memory system with registered memory module an...</td>\n",
       "      <td>A memory module and related method are disclos...</td>\n",
       "      <td>0</td>\n",
       "    </tr>\n",
       "    <tr>\n",
       "      <th>1</th>\n",
       "      <td>7547047</td>\n",
       "      <td>Coupler and method of making molded coupler</td>\n",
       "      <td>A coupler device for fluid transport that incl...</td>\n",
       "      <td>0</td>\n",
       "    </tr>\n",
       "    <tr>\n",
       "      <th>2</th>\n",
       "      <td>8280734</td>\n",
       "      <td>Systems and arrangements for titling audio rec...</td>\n",
       "      <td>Generally methods for titling segments of reco...</td>\n",
       "      <td>0</td>\n",
       "    </tr>\n",
       "    <tr>\n",
       "      <th>3</th>\n",
       "      <td>8399370</td>\n",
       "      <td>Glass composition</td>\n",
       "      <td>A glass composition which is reduced in the am...</td>\n",
       "      <td>0</td>\n",
       "    </tr>\n",
       "    <tr>\n",
       "      <th>4</th>\n",
       "      <td>7094688</td>\n",
       "      <td>Method for manufacturing semiconductor device</td>\n",
       "      <td>A via hole is first formed, and an embedded ma...</td>\n",
       "      <td>0</td>\n",
       "    </tr>\n",
       "    <tr>\n",
       "      <th>...</th>\n",
       "      <td>...</td>\n",
       "      <td>...</td>\n",
       "      <td>...</td>\n",
       "      <td>...</td>\n",
       "    </tr>\n",
       "    <tr>\n",
       "      <th>1511</th>\n",
       "      <td>5519811</td>\n",
       "      <td>Neural network, processor, and pattern recogni...</td>\n",
       "      <td>Apparatus for realizing a neural network of a ...</td>\n",
       "      <td>1</td>\n",
       "    </tr>\n",
       "    <tr>\n",
       "      <th>1512</th>\n",
       "      <td>9052896</td>\n",
       "      <td>Adjusting mobile device state based on user in...</td>\n",
       "      <td>In one embodiment, when a computing system is ...</td>\n",
       "      <td>1</td>\n",
       "    </tr>\n",
       "    <tr>\n",
       "      <th>1513</th>\n",
       "      <td>8909574</td>\n",
       "      <td>Systems for matching sparkle appearance of coa...</td>\n",
       "      <td>This disclosure is directed to a process for p...</td>\n",
       "      <td>1</td>\n",
       "    </tr>\n",
       "    <tr>\n",
       "      <th>1514</th>\n",
       "      <td>5390261</td>\n",
       "      <td>Method and apparatus for pattern classificatio...</td>\n",
       "      <td>A method for pattern classification and, in pa...</td>\n",
       "      <td>1</td>\n",
       "    </tr>\n",
       "    <tr>\n",
       "      <th>1515</th>\n",
       "      <td>5826248</td>\n",
       "      <td>Neuronic cellular automaton and optimizer empl...</td>\n",
       "      <td>A cellular automaton part is provided with cel...</td>\n",
       "      <td>1</td>\n",
       "    </tr>\n",
       "  </tbody>\n",
       "</table>\n",
       "<p>1516 rows × 4 columns</p>\n",
       "</div>"
      ],
      "text/plain": [
       "           id                                              title  \\\n",
       "0     7319635  Memory system with registered memory module an...   \n",
       "1     7547047        Coupler and method of making molded coupler   \n",
       "2     8280734  Systems and arrangements for titling audio rec...   \n",
       "3     8399370                                  Glass composition   \n",
       "4     7094688      Method for manufacturing semiconductor device   \n",
       "...       ...                                                ...   \n",
       "1511  5519811  Neural network, processor, and pattern recogni...   \n",
       "1512  9052896  Adjusting mobile device state based on user in...   \n",
       "1513  8909574  Systems for matching sparkle appearance of coa...   \n",
       "1514  5390261  Method and apparatus for pattern classificatio...   \n",
       "1515  5826248  Neuronic cellular automaton and optimizer empl...   \n",
       "\n",
       "                                               abstract  seed  \n",
       "0     A memory module and related method are disclos...     0  \n",
       "1     A coupler device for fluid transport that incl...     0  \n",
       "2     Generally methods for titling segments of reco...     0  \n",
       "3     A glass composition which is reduced in the am...     0  \n",
       "4     A via hole is first formed, and an embedded ma...     0  \n",
       "...                                                 ...   ...  \n",
       "1511  Apparatus for realizing a neural network of a ...     1  \n",
       "1512  In one embodiment, when a computing system is ...     1  \n",
       "1513  This disclosure is directed to a process for p...     1  \n",
       "1514  A method for pattern classification and, in pa...     1  \n",
       "1515  A cellular automaton part is provided with cel...     1  \n",
       "\n",
       "[1516 rows x 4 columns]"
      ]
     },
     "execution_count": 10,
     "metadata": {},
     "output_type": "execute_result"
    }
   ],
   "source": [
    "np.bincount(all_data.seed[780:])\n",
    "#pd.set_option('display.max_rows', 100)\n",
    "all_data"
   ]
  },
  {
   "cell_type": "markdown",
   "id": "smaller-northeast",
   "metadata": {},
   "source": [
    "780 antiseed 736 seed"
   ]
  },
  {
   "cell_type": "markdown",
   "id": "disturbed-committee",
   "metadata": {},
   "source": [
    "## Prepare Data"
   ]
  },
  {
   "cell_type": "code",
   "execution_count": 11,
   "id": "selected-tourism",
   "metadata": {},
   "outputs": [],
   "source": [
    "X_train = all_data.abstract[:500].append(all_data.abstract[780:780+500])\n",
    "X_test = all_data.abstract[500:780].append(all_data.abstract[780+500:])\n",
    "Y_train = all_data.seed[:500].append(all_data.seed[780:780+500])\n",
    "Y_test = all_data.seed[500:780].append(all_data.seed[780+500:])"
   ]
  },
  {
   "cell_type": "markdown",
   "id": "general-lingerie",
   "metadata": {},
   "source": [
    "### Create Vectorizer"
   ]
  },
  {
   "cell_type": "code",
   "execution_count": 12,
   "id": "incoming-vatican",
   "metadata": {},
   "outputs": [],
   "source": [
    "stopwords = []\n",
    "with open('../stopwords.txt') as f:\n",
    "    lines = f.readlines()\n",
    "    for line in lines:\n",
    "        stopwords.append(line[:-1])"
   ]
  },
  {
   "cell_type": "code",
   "execution_count": 13,
   "id": "classified-roller",
   "metadata": {},
   "outputs": [],
   "source": [
    "vectorizer = CountVectorizer(stop_words = stopwords)"
   ]
  },
  {
   "cell_type": "code",
   "execution_count": 14,
   "id": "tested-christianity",
   "metadata": {},
   "outputs": [],
   "source": [
    "X_train = vectorizer.fit_transform(X_train.values)\n",
    "X_test = vectorizer.transform(X_test.values)"
   ]
  },
  {
   "cell_type": "code",
   "execution_count": 15,
   "id": "unauthorized-prompt",
   "metadata": {},
   "outputs": [
    {
     "data": {
      "text/plain": [
       "6978"
      ]
     },
     "execution_count": 15,
     "metadata": {},
     "output_type": "execute_result"
    }
   ],
   "source": [
    "len(vectorizer.get_feature_names())"
   ]
  },
  {
   "cell_type": "code",
   "execution_count": 16,
   "id": "clean-sentence",
   "metadata": {},
   "outputs": [
    {
     "name": "stdout",
     "output_type": "stream",
     "text": [
      "0.9490000000000001\n"
     ]
    }
   ],
   "source": [
    "scores = cross_val_score(LogisticRegression(),X_train,Y_train.values, cv=5)\n",
    "print(np.mean(scores))"
   ]
  },
  {
   "cell_type": "code",
   "execution_count": 17,
   "id": "opposed-equality",
   "metadata": {},
   "outputs": [
    {
     "data": {
      "text/plain": [
       "LogisticRegression()"
      ]
     },
     "execution_count": 17,
     "metadata": {},
     "output_type": "execute_result"
    }
   ],
   "source": [
    "logreg = LogisticRegression()\n",
    "logreg.fit(X_train, Y_train)"
   ]
  },
  {
   "cell_type": "code",
   "execution_count": 18,
   "id": "worst-style",
   "metadata": {},
   "outputs": [
    {
     "name": "stdout",
     "output_type": "stream",
     "text": [
      "1.0\n",
      "0.9302325581395349\n"
     ]
    }
   ],
   "source": [
    "print(logreg.score(X_train, Y_train))\n",
    "print(logreg.score(X_test, Y_test))"
   ]
  },
  {
   "cell_type": "code",
   "execution_count": 19,
   "id": "cloudy-smith",
   "metadata": {},
   "outputs": [
    {
     "data": {
      "text/plain": [
       "array([[270,  10],\n",
       "       [ 26, 210]])"
      ]
     },
     "execution_count": 19,
     "metadata": {},
     "output_type": "execute_result"
    }
   ],
   "source": [
    "pred_logreg = logreg.predict(X_test)\n",
    "confusion = confusion_matrix(Y_test, pred_logreg)\n",
    "confusion"
   ]
  },
  {
   "cell_type": "code",
   "execution_count": 20,
   "id": "crazy-identifier",
   "metadata": {},
   "outputs": [
    {
     "name": "stdout",
     "output_type": "stream",
     "text": [
      "1.0\n",
      "0.9457364341085271\n"
     ]
    }
   ],
   "source": [
    "rf = RandomForestClassifier()\n",
    "rf.fit(X_train, Y_train)\n",
    "print(rf.score(X_train, Y_train))\n",
    "print(rf.score(X_test, Y_test))"
   ]
  },
  {
   "cell_type": "code",
   "execution_count": 21,
   "id": "indie-payment",
   "metadata": {},
   "outputs": [
    {
     "name": "stdout",
     "output_type": "stream",
     "text": [
      "0.975\n",
      "0.9554263565891473\n"
     ]
    }
   ],
   "source": [
    "nb = MultinomialNB()\n",
    "nb.fit(X_train, Y_train)\n",
    "print(nb.score(X_train, Y_train))\n",
    "print(nb.score(X_test, Y_test))"
   ]
  },
  {
   "cell_type": "markdown",
   "id": "joint-corrections",
   "metadata": {},
   "source": [
    "## SVM"
   ]
  },
  {
   "cell_type": "code",
   "execution_count": 22,
   "id": "insured-sugar",
   "metadata": {},
   "outputs": [],
   "source": [
    "svm_classifier = svm.SVC(kernel='linear', gamma='scale', C=2, degree=20, probability = True)"
   ]
  },
  {
   "cell_type": "code",
   "execution_count": 23,
   "id": "professional-western",
   "metadata": {},
   "outputs": [
    {
     "data": {
      "text/plain": [
       "516"
      ]
     },
     "execution_count": 23,
     "metadata": {},
     "output_type": "execute_result"
    }
   ],
   "source": [
    "svm_classifier.fit(X_train, Y_train)\n",
    "y_predict = svm_classifier.predict(X_test)\n",
    "len(Y_test.values)"
   ]
  },
  {
   "cell_type": "code",
   "execution_count": 24,
   "id": "separated-thomson",
   "metadata": {},
   "outputs": [
    {
     "name": "stdout",
     "output_type": "stream",
     "text": [
      "[[268  12]\n",
      " [ 26 210]]\n",
      "1.0\n",
      "0.9263565891472868\n",
      "[0 0 0 0 0 0 0 0 0 0 0 0 0 0 0 0 0 0 0 0 0 0 0 0 1 0 0 1 0 0 0 0 0 0 0 0 0\n",
      " 0 0 0 0 0 0 0 0 0 0 0 0 0 0 0 0 0 0 0 0 0 0 1 0 0 0 0 0 0 0 0 0 0 0 0 0 0\n",
      " 0 0 0 0 0 0 0 0 0 0 0 0 0 0 0 0 0 0 0 0 0 0 0 0 0 0 0 0 0 1 0 0 0 0 0 0 0\n",
      " 0 0 0 0 0 0 0 0 0 0 0 0 0 0 0 0 0 0 0 0 0 0 0 1 0 0 0 0 0 0 0 0 0 1 0 0 0\n",
      " 0 0 0 0 0 0 0 0 0 0 0 0 0 0 0 0 0 0 0 0 0 0 0 1 0 0 0 0 0 0 0 0 0 0 0 0 0\n",
      " 1 0 0 0 0 0 0 0 0 0 1 0 0 0 0 1 0 0 0 0 0 0 0 1 0 0 0 0 0 0 0 0 0 0 0 0 0\n",
      " 0 0 0 0 0 0 0 0 0 0 0 0 0 0 0 0 0 0 0 0 0 0 0 0 0 0 0 0 0 0 0 0 0 0 0 0 1\n",
      " 0 0 0 0 0 0 0 0 0 0 0 0 0 0 0 0 0 0 0 0 0 1 1 1 1 1 1 0 1 1 1 1 1 1 1 1 1\n",
      " 1 1 1 1 1 1 1 1 1 1 1 1 0 1 1 1 1 1 1 0 1 1 1 1 1 1 1 0 1 1 1 1 1 1 0 1 1\n",
      " 1 1 1 0 1 1 1 1 1 1 1 1 1 1 1 1 1 1 1 1 1 1 1 1 1 1 1 1 1 1 1 1 1 0 1 0 1\n",
      " 1 1 1 1 1 1 0 1 1 0 0 1 1 1 1 1 1 1 1 1 1 1 1 0 1 1 1 1 1 1 1 0 1 1 0 1 1\n",
      " 1 1 1 1 1 1 1 1 1 1 1 1 1 1 1 1 1 1 1 1 1 1 1 1 1 1 1 1 0 1 1 1 1 1 1 0 0\n",
      " 1 1 1 1 1 1 1 1 1 1 1 1 1 1 1 1 1 1 1 1 1 1 1 1 1 1 0 1 1 1 0 1 1 1 1 1 0\n",
      " 1 1 1 0 1 1 1 1 1 0 1 1 1 1 1 1 1 1 1 0 1 1 1 1 1 1 0 1 1 1 1 1 0 1 0]\n",
      "516\n"
     ]
    }
   ],
   "source": [
    "from sklearn.metrics import classification_report\n",
    "print(confusion_matrix(Y_test, y_predict))\n",
    "print(svm_classifier.score(X_train, Y_train.values))\n",
    "print(svm_classifier.score(X_test, Y_test.values))\n",
    "print(y_predict)\n",
    "print(len(y_predict))"
   ]
  },
  {
   "cell_type": "code",
   "execution_count": 25,
   "id": "hollow-mathematics",
   "metadata": {},
   "outputs": [],
   "source": [
    "# for i, elem in enumerate(y_predict):\n",
    "#     print(i, elem)"
   ]
  },
  {
   "cell_type": "markdown",
   "id": "danish-monaco",
   "metadata": {},
   "source": [
    "<img src=\"../img/confusion_matrix.png\">"
   ]
  },
  {
   "cell_type": "code",
   "execution_count": 33,
   "id": "funky-newcastle",
   "metadata": {},
   "outputs": [],
   "source": [
    "np.set_printoptions(threshold=np.inf)"
   ]
  },
  {
   "cell_type": "markdown",
   "id": "human-still",
   "metadata": {},
   "source": [
    "## Sample of how to determine confidence scores and sample treshold for a decent error ratio"
   ]
  },
  {
   "cell_type": "code",
   "execution_count": 46,
   "id": "surprised-constraint",
   "metadata": {},
   "outputs": [
    {
     "name": "stdout",
     "output_type": "stream",
     "text": [
      "14 25\n"
     ]
    }
   ],
   "source": [
    "counter = 0\n",
    "total = 0\n",
    "got = 0\n",
    "prob = svm_classifier.predict_proba(X_test)\n",
    "for i, values in enumerate(y_predict):\n",
    "    #print(prob[i][0],prob[i][1])\n",
    "    if max(prob[i][0],prob[i][1]) < 0.7:\n",
    "        total += 1\n",
    "        got= y_predict[i]\n",
    "        expected = Y_test.values[i]\n",
    "        if got != expected:\n",
    "            #print(\"Wrong\")\n",
    "            counter +=1\n",
    "#         print('===================================')\n",
    "#         print(f\"index: {i}\")\n",
    "#         print(f\"Got {got}\")\n",
    "#         print(f\"Expected: {expected}\")\n",
    "#         print(f\"Probability {prob[i]}\")\n",
    "#         print('===================================')\n",
    "print(counter, total)"
   ]
  },
  {
   "cell_type": "code",
   "execution_count": 30,
   "id": "through-morning",
   "metadata": {},
   "outputs": [],
   "source": [
    "# for i, values in enumerate(prob):\n",
    "#     print(y_predict[i], Y_test.values[i])"
   ]
  },
  {
   "cell_type": "code",
   "execution_count": null,
   "id": "adolescent-defeat",
   "metadata": {},
   "outputs": [],
   "source": []
  }
 ],
 "metadata": {
  "kernelspec": {
   "display_name": "Python 3",
   "language": "python",
   "name": "python3"
  },
  "language_info": {
   "codemirror_mode": {
    "name": "ipython",
    "version": 3
   },
   "file_extension": ".py",
   "mimetype": "text/x-python",
   "name": "python",
   "nbconvert_exporter": "python",
   "pygments_lexer": "ipython3",
   "version": "3.9.1"
  }
 },
 "nbformat": 4,
 "nbformat_minor": 5
}
