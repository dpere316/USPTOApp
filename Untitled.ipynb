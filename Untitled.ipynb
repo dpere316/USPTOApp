{
 "cells": [
  {
   "cell_type": "markdown",
   "id": "binding-faith",
   "metadata": {},
   "source": [
    "# Testing out Queries from PO"
   ]
  },
  {
   "cell_type": "code",
   "execution_count": 3,
   "id": "czech-trunk",
   "metadata": {},
   "outputs": [],
   "source": [
    "from google.cloud import bigquery\n",
    "from pandas.io import gbq\n",
    "import datetime\n",
    "# from show_elapsed_time import timeit\n",
    "from time import time"
   ]
  },
  {
   "cell_type": "code",
   "execution_count": 4,
   "id": "frequent-underground",
   "metadata": {},
   "outputs": [],
   "source": [
    "query_job = \"\"\"\n",
    "SELECT DISTINCT\n",
    "\tp.publication_number,\n",
    "\tp.kind_code,\n",
    "\tp.application_kind,\n",
    "\tp.application_number,\n",
    "\tp.application_number_formatted,\n",
    "\tabstract.text,\n",
    "\tp.publication_date,\n",
    "\tp.filing_date,\n",
    "\tp.family_id\n",
    "FROM\n",
    "\t`patents-public-data.patents.publications` as p,\n",
    "\tUNNEST(p.abstract_localized) AS abstract\n",
    "WHERE\n",
    "\tp.country_code='US'\n",
    "\"\"\""
   ]
  },
  {
   "cell_type": "code",
   "execution_count": 5,
   "id": "enabling-hungarian",
   "metadata": {},
   "outputs": [
    {
     "ename": "AttributeError",
     "evalue": "'str' object has no attribute 'result'",
     "output_type": "error",
     "traceback": [
      "\u001b[0;31m---------------------------------------------------------------------------\u001b[0m",
      "\u001b[0;31mAttributeError\u001b[0m                            Traceback (most recent call last)",
      "\u001b[0;32m<ipython-input-5-5e793257d20e>\u001b[0m in \u001b[0;36m<module>\u001b[0;34m\u001b[0m\n\u001b[0;32m----> 1\u001b[0;31m \u001b[0mresults\u001b[0m \u001b[0;34m=\u001b[0m \u001b[0mquery_job\u001b[0m\u001b[0;34m.\u001b[0m\u001b[0mresult\u001b[0m\u001b[0;34m(\u001b[0m\u001b[0;34m)\u001b[0m\u001b[0;34m\u001b[0m\u001b[0;34m\u001b[0m\u001b[0m\n\u001b[0m",
      "\u001b[0;31mAttributeError\u001b[0m: 'str' object has no attribute 'result'"
     ]
    }
   ],
   "source": [
    "results = query_job.result()"
   ]
  },
  {
   "cell_type": "code",
   "execution_count": 6,
   "id": "contemporary-recipient",
   "metadata": {},
   "outputs": [
    {
     "ename": "TypeError",
     "evalue": "read_gbq() got an unexpected keyword argument 'verbose'",
     "output_type": "error",
     "traceback": [
      "\u001b[0;31m---------------------------------------------------------------------------\u001b[0m",
      "\u001b[0;31mTypeError\u001b[0m                                 Traceback (most recent call last)",
      "\u001b[0;32m<ipython-input-6-737593777b5a>\u001b[0m in \u001b[0;36m<module>\u001b[0;34m\u001b[0m\n\u001b[1;32m      1\u001b[0m \u001b[0mt1\u001b[0m\u001b[0;34m=\u001b[0m\u001b[0mtime\u001b[0m\u001b[0;34m(\u001b[0m\u001b[0;34m)\u001b[0m\u001b[0;34m\u001b[0m\u001b[0;34m\u001b[0m\u001b[0m\n\u001b[0;32m----> 2\u001b[0;31m patentdata_df = gbq.read_gbq(\n\u001b[0m\u001b[1;32m      3\u001b[0m         \u001b[0mquery\u001b[0m\u001b[0;34m=\u001b[0m\u001b[0mquery_job\u001b[0m\u001b[0;34m,\u001b[0m\u001b[0;34m\u001b[0m\u001b[0;34m\u001b[0m\u001b[0m\n\u001b[1;32m      4\u001b[0m         \u001b[0mverbose\u001b[0m\u001b[0;34m=\u001b[0m\u001b[0;32mFalse\u001b[0m\u001b[0;34m,\u001b[0m\u001b[0;34m\u001b[0m\u001b[0;34m\u001b[0m\u001b[0m\n\u001b[1;32m      5\u001b[0m         \u001b[0mdialect\u001b[0m\u001b[0;34m=\u001b[0m\u001b[0;34m'standard'\u001b[0m\u001b[0;34m,\u001b[0m\u001b[0;34m\u001b[0m\u001b[0;34m\u001b[0m\u001b[0m\n",
      "\u001b[0;31mTypeError\u001b[0m: read_gbq() got an unexpected keyword argument 'verbose'"
     ]
    }
   ],
   "source": [
    "t1=time()\n",
    "patentdata_df = gbq.read_gbq(\n",
    "\tquery=query_job,\n",
    "\tverbose=False,\n",
    "\tdialect='standard',\n",
    "\tconfiguration = {'query' : {'useQueryCache': True, 'allowLargeResults': False}})"
   ]
  }
 ],
 "metadata": {
  "kernelspec": {
   "display_name": "Python 3",
   "language": "python",
   "name": "python3"
  },
  "language_info": {
   "codemirror_mode": {
    "name": "ipython",
    "version": 3
   },
   "file_extension": ".py",
   "mimetype": "text/x-python",
   "name": "python",
   "nbconvert_exporter": "python",
   "pygments_lexer": "ipython3",
   "version": "3.9.1"
  }
 },
 "nbformat": 4,
 "nbformat_minor": 5
}
