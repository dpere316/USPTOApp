{
 "cells": [
  {
   "cell_type": "markdown",
   "metadata": {},
   "source": [
    "### Imports"
   ]
  },
  {
   "cell_type": "code",
   "execution_count": 1,
   "metadata": {},
   "outputs": [],
   "source": [
    "import pandas as pd\n",
    "import numpy as np\n",
    "import json\n",
    "\n",
    "import sklearn\n",
    "from sklearn.feature_extraction.text import CountVectorizer\n",
    "from sklearn.model_selection import train_test_split\n",
    "from sklearn import svm\n",
    "\n",
    "from sklearn.decomposition import TruncatedSVD\n",
    "\n",
    "from modAL.models import ActiveLearner\n",
    "from modAL.uncertainty import uncertainty_sampling\n",
    "\n",
    "import pickle\n",
    "import pymongo\n",
    "from pymongo import MongoClient"
   ]
  },
  {
   "cell_type": "markdown",
   "metadata": {},
   "source": [
    "## Load Data"
   ]
  },
  {
   "cell_type": "code",
   "execution_count": 2,
   "metadata": {},
   "outputs": [],
   "source": [
    "#We connect to the database\n",
    "cluster = MongoClient(\"mongodb://compute1.cognac.cs.fiu.edu:59122/PatentData?readPreference=secondary&ssl=false\")\n",
    "\n",
    "#Access the test patent data cluster\n",
    "db = cluster['TestDatabase']\n",
    "\n",
    "#Access the test labels Patent\n",
    "patent_db = db['LabeledPatents']"
   ]
  },
  {
   "cell_type": "code",
   "execution_count": 3,
   "metadata": {},
   "outputs": [],
   "source": [
    "df = pd.DataFrame(list(patent_db.find()))\n",
    "df = df.iloc[:,1:]\n",
    "df['text'] = df['title'] + \" \" + df['abstract']\n",
    "df = df.rename(columns={\"documentId\":\"id\",\"MachineLearningPatent\": \"ml\", \"Hardware\": \"hardware\",\"EVO\":\"evo\",\"NLP\":\"nlp\",\"Vision\":\"vision\",\"Planning\":\"planning\",\"KnowledgeProcessing\":\"knowledgeplanning\"})"
   ]
  },
  {
   "cell_type": "code",
   "execution_count": 4,
   "metadata": {},
   "outputs": [],
   "source": [
    "ml_df = df[['id','text','ml']]\n",
    "ml_df = ml_df.rename(columns = {\"documentId\":\"id\", \"ml\": \"seed\"})\n",
    "ml_df['seed'] = ml_df.seed.map(dict(Yes=1, No=0))"
   ]
  },
  {
   "cell_type": "code",
   "execution_count": 5,
   "metadata": {},
   "outputs": [
    {
     "data": {
      "text/html": [
       "<div>\n",
       "<style scoped>\n",
       "    .dataframe tbody tr th:only-of-type {\n",
       "        vertical-align: middle;\n",
       "    }\n",
       "\n",
       "    .dataframe tbody tr th {\n",
       "        vertical-align: top;\n",
       "    }\n",
       "\n",
       "    .dataframe thead th {\n",
       "        text-align: right;\n",
       "    }\n",
       "</style>\n",
       "<table border=\"1\" class=\"dataframe\">\n",
       "  <thead>\n",
       "    <tr style=\"text-align: right;\">\n",
       "      <th></th>\n",
       "      <th>id</th>\n",
       "      <th>text</th>\n",
       "      <th>seed</th>\n",
       "    </tr>\n",
       "  </thead>\n",
       "  <tbody>\n",
       "    <tr>\n",
       "      <th>0</th>\n",
       "      <td>07328147</td>\n",
       "      <td>Automatic Resolution of Segmentation Ambiguiti...</td>\n",
       "      <td>1</td>\n",
       "    </tr>\n",
       "    <tr>\n",
       "      <th>1</th>\n",
       "      <td>08037928</td>\n",
       "      <td>Chromium-enriched Oxide Containing Material an...</td>\n",
       "      <td>0</td>\n",
       "    </tr>\n",
       "    <tr>\n",
       "      <th>2</th>\n",
       "      <td>05664062</td>\n",
       "      <td>High Performance Max-Min Circuit for a Fuzzy I...</td>\n",
       "      <td>0</td>\n",
       "    </tr>\n",
       "    <tr>\n",
       "      <th>3</th>\n",
       "      <td>09037463</td>\n",
       "      <td>Efficient Exploitation of Model Complementarin...</td>\n",
       "      <td>1</td>\n",
       "    </tr>\n",
       "    <tr>\n",
       "      <th>4</th>\n",
       "      <td>09206987</td>\n",
       "      <td>Wire Mesh Thermal Radiative Element and Use in...</td>\n",
       "      <td>0</td>\n",
       "    </tr>\n",
       "    <tr>\n",
       "      <th>...</th>\n",
       "      <td>...</td>\n",
       "      <td>...</td>\n",
       "      <td>...</td>\n",
       "    </tr>\n",
       "    <tr>\n",
       "      <th>81</th>\n",
       "      <td>10012544</td>\n",
       "      <td>Homogenization of Light Beam for Spectral Feat...</td>\n",
       "      <td>0</td>\n",
       "    </tr>\n",
       "    <tr>\n",
       "      <th>82</th>\n",
       "      <td>05339090</td>\n",
       "      <td>Spatial Light Modulators \\n    A smart pixel i...</td>\n",
       "      <td>0</td>\n",
       "    </tr>\n",
       "    <tr>\n",
       "      <th>83</th>\n",
       "      <td>04461201</td>\n",
       "      <td>Safety Closure Lock \\n    A safety closure loc...</td>\n",
       "      <td>0</td>\n",
       "    </tr>\n",
       "    <tr>\n",
       "      <th>84</th>\n",
       "      <td>05202066</td>\n",
       "      <td>Method of Plasticizing Molding Material and Ap...</td>\n",
       "      <td>0</td>\n",
       "    </tr>\n",
       "    <tr>\n",
       "      <th>85</th>\n",
       "      <td>05348975</td>\n",
       "      <td>7-chromanyl Esters of Phenols and Benzoic Acid...</td>\n",
       "      <td>0</td>\n",
       "    </tr>\n",
       "  </tbody>\n",
       "</table>\n",
       "<p>86 rows × 3 columns</p>\n",
       "</div>"
      ],
      "text/plain": [
       "          id                                               text  seed\n",
       "0   07328147  Automatic Resolution of Segmentation Ambiguiti...     1\n",
       "1   08037928  Chromium-enriched Oxide Containing Material an...     0\n",
       "2   05664062  High Performance Max-Min Circuit for a Fuzzy I...     0\n",
       "3   09037463  Efficient Exploitation of Model Complementarin...     1\n",
       "4   09206987  Wire Mesh Thermal Radiative Element and Use in...     0\n",
       "..       ...                                                ...   ...\n",
       "81  10012544  Homogenization of Light Beam for Spectral Feat...     0\n",
       "82  05339090  Spatial Light Modulators \\n    A smart pixel i...     0\n",
       "83  04461201  Safety Closure Lock \\n    A safety closure loc...     0\n",
       "84  05202066  Method of Plasticizing Molding Material and Ap...     0\n",
       "85  05348975  7-chromanyl Esters of Phenols and Benzoic Acid...     0\n",
       "\n",
       "[86 rows x 3 columns]"
      ]
     },
     "execution_count": 5,
     "metadata": {},
     "output_type": "execute_result"
    }
   ],
   "source": [
    "ml_df"
   ]
  },
  {
   "cell_type": "code",
   "execution_count": 6,
   "metadata": {},
   "outputs": [],
   "source": [
    "# with open('successful.json') as f:\n",
    "#     patents = json.load(f)"
   ]
  },
  {
   "cell_type": "code",
   "execution_count": 7,
   "metadata": {},
   "outputs": [],
   "source": [
    "# seed_data = pd.DataFrame(patents['seed'])\n",
    "# antiseed_data = pd.DataFrame(patents['antiseed'])\n",
    "# antiseed_data['seed'] = 0\n",
    "# seed_data['seed'] = 1\n",
    "# all_data = antiseed_data\n",
    "# all_data = all_data.append(seed_data)\n",
    "# all_data = all_data.reset_index(drop=True)\n",
    "# all_data = all_data.sample(frac=1).reset_index(drop=True)\n",
    "# all_data['text'] = all_data['title'] + \" \" + all_data['abstract']\n",
    "# all_data[:5]"
   ]
  },
  {
   "cell_type": "code",
   "execution_count": 8,
   "metadata": {},
   "outputs": [
    {
     "data": {
      "text/plain": [
       "0    68\n",
       "1    18\n",
       "Name: seed, dtype: int64"
      ]
     },
     "execution_count": 8,
     "metadata": {},
     "output_type": "execute_result"
    }
   ],
   "source": [
    "ml_df['seed'].value_counts()"
   ]
  },
  {
   "cell_type": "code",
   "execution_count": 9,
   "metadata": {},
   "outputs": [],
   "source": [
    "all_data = ml_df"
   ]
  },
  {
   "cell_type": "markdown",
   "metadata": {},
   "source": [
    "## Prepare Data"
   ]
  },
  {
   "cell_type": "markdown",
   "metadata": {},
   "source": [
    "### Create Vectorizer"
   ]
  },
  {
   "cell_type": "code",
   "execution_count": 10,
   "metadata": {},
   "outputs": [],
   "source": [
    "stopwords = []\n",
    "with open('stopwords.txt') as f:\n",
    "    lines = f.readlines()\n",
    "    for line in lines:\n",
    "        stopwords.append(line[:-1])"
   ]
  },
  {
   "cell_type": "code",
   "execution_count": 11,
   "metadata": {},
   "outputs": [],
   "source": [
    "vectorizer = CountVectorizer(stop_words = stopwords)"
   ]
  },
  {
   "cell_type": "code",
   "execution_count": 12,
   "metadata": {},
   "outputs": [],
   "source": [
    "X_raw = vectorizer.fit_transform(all_data['text'].values)\n",
    "svd = TruncatedSVD(n_components=100,random_state=42)\n",
    "X_raw = svd.fit_transform(X_raw)\n",
    "y_raw = all_data['seed'].values"
   ]
  },
  {
   "cell_type": "code",
   "execution_count": 13,
   "metadata": {},
   "outputs": [
    {
     "data": {
      "text/plain": [
       "(86, 86)"
      ]
     },
     "execution_count": 13,
     "metadata": {},
     "output_type": "execute_result"
    }
   ],
   "source": [
    "X_raw.shape"
   ]
  },
  {
   "cell_type": "markdown",
   "metadata": {},
   "source": [
    "### Split training set"
   ]
  },
  {
   "cell_type": "code",
   "execution_count": 14,
   "metadata": {},
   "outputs": [],
   "source": [
    "n_initial = 20"
   ]
  },
  {
   "cell_type": "code",
   "execution_count": 15,
   "metadata": {},
   "outputs": [],
   "source": [
    "X_train, X_test, y_train, y_test = train_test_split(X_raw, y_raw)\n",
    "\n",
    "initial_idx = np.random.choice(range(X_train.shape[0]), size=n_initial, replace=False)\n",
    "\n",
    "X_initial, y_initial = X_train[initial_idx], y_train[initial_idx]\n",
    "X_pool, y_pool = np.delete(X_train, initial_idx, axis=0), np.delete(y_train, initial_idx, axis=0)"
   ]
  },
  {
   "cell_type": "code",
   "execution_count": 16,
   "metadata": {},
   "outputs": [
    {
     "data": {
      "text/plain": [
       "array([0, 1, 0, 0, 0, 0, 0, 0, 1, 0, 0, 1, 1, 0, 0, 0, 0, 0, 0, 0],\n",
       "      dtype=int64)"
      ]
     },
     "execution_count": 16,
     "metadata": {},
     "output_type": "execute_result"
    }
   ],
   "source": [
    "y_initial"
   ]
  },
  {
   "cell_type": "markdown",
   "metadata": {},
   "source": [
    "## Initialize learner"
   ]
  },
  {
   "cell_type": "code",
   "execution_count": 17,
   "metadata": {},
   "outputs": [],
   "source": [
    "learner = ActiveLearner(\n",
    "    estimator=svm.SVC(kernel='linear', gamma='scale', C=2, probability = True),\n",
    "    query_strategy=uncertainty_sampling,\n",
    "    X_training=X_initial, y_training=y_initial\n",
    ")"
   ]
  },
  {
   "cell_type": "code",
   "execution_count": 18,
   "metadata": {},
   "outputs": [
    {
     "data": {
      "text/plain": [
       "SVC(C=2, break_ties=False, cache_size=200, class_weight=None, coef0=0.0,\n",
       "    decision_function_shape='ovr', degree=3, gamma='scale', kernel='linear',\n",
       "    max_iter=-1, probability=True, random_state=None, shrinking=True, tol=0.001,\n",
       "    verbose=False)"
      ]
     },
     "execution_count": 18,
     "metadata": {},
     "output_type": "execute_result"
    }
   ],
   "source": [
    "learner.estimator"
   ]
  },
  {
   "cell_type": "code",
   "execution_count": 19,
   "metadata": {},
   "outputs": [],
   "source": [
    "# import pickle\n",
    "# pickle.dump(learner.estimator, open('models/model0.sav','wb'))\n",
    "# loaded_model = pickle.load(open('models/model0.sav','rb'))"
   ]
  },
  {
   "cell_type": "code",
   "execution_count": 20,
   "metadata": {},
   "outputs": [
    {
     "data": {
      "text/plain": [
       "array([0, 0, 0, 0, 0, 0, 0, 0, 0, 0, 0, 0, 0, 0, 0, 0, 0, 0, 0, 0, 0, 0,\n",
       "       0, 0, 0, 1, 0, 0, 0, 1, 0, 0, 0, 0, 0, 0, 1, 0, 0, 0, 0, 0, 0, 0,\n",
       "       0, 0, 0, 0, 0, 0, 0, 0, 0, 0, 0, 0, 0, 0, 0, 0, 0, 0, 0, 0, 0, 0,\n",
       "       0, 0, 0, 0, 0, 0, 0, 0, 1, 0, 0, 0, 1, 0, 0, 0, 0, 0, 0, 0],\n",
       "      dtype=int64)"
      ]
     },
     "execution_count": 20,
     "metadata": {},
     "output_type": "execute_result"
    }
   ],
   "source": [
    "predictions = learner.predict(X_raw)\n",
    "is_correct = (predictions == y_raw)\n",
    "\n",
    "predictions"
   ]
  },
  {
   "cell_type": "code",
   "execution_count": 21,
   "metadata": {},
   "outputs": [],
   "source": [
    "unqueried_score = learner.score(X_raw, y_raw)\n"
   ]
  },
  {
   "cell_type": "code",
   "execution_count": 22,
   "metadata": {},
   "outputs": [
    {
     "data": {
      "text/plain": [
       "0.8255813953488372"
      ]
     },
     "execution_count": 22,
     "metadata": {},
     "output_type": "execute_result"
    }
   ],
   "source": [
    "unqueried_score"
   ]
  },
  {
   "cell_type": "markdown",
   "metadata": {},
   "source": [
    "### Active Learning loop"
   ]
  },
  {
   "cell_type": "code",
   "execution_count": 23,
   "metadata": {},
   "outputs": [
    {
     "name": "stdout",
     "output_type": "stream",
     "text": [
      "Accuracy after query 1: 0.5909\n",
      "Accuracy after query 2: 0.5909\n",
      "Accuracy after query 3: 0.6364\n",
      "Accuracy after query 4: 0.6364\n",
      "Accuracy after query 5: 0.6364\n",
      "Accuracy after query 6: 0.6364\n",
      "Accuracy after query 7: 0.6364\n",
      "Accuracy after query 8: 0.6364\n",
      "Accuracy after query 9: 0.6364\n",
      "Accuracy after query 10: 0.6364\n",
      "Accuracy after query 11: 0.6364\n",
      "Accuracy after query 12: 0.6364\n",
      "Accuracy after query 13: 0.6364\n",
      "Accuracy after query 14: 0.6364\n",
      "Accuracy after query 15: 0.7273\n",
      "Accuracy after query 16: 0.7273\n",
      "Accuracy after query 17: 0.7273\n",
      "Accuracy after query 18: 0.7273\n",
      "Accuracy after query 19: 0.7273\n",
      "Accuracy after query 20: 0.7273\n"
     ]
    }
   ],
   "source": [
    "N_QUERIES = 20\n",
    "performance_history = [unqueried_score]\n",
    "\n",
    "# Allow our model to query our unlabeled dataset for the most\n",
    "# informative points according to our query strategy (uncertainty sampling).\n",
    "for index in range(N_QUERIES):\n",
    "    query_index, query_instance = learner.query(X_pool)\n",
    "\n",
    "    # Teach our ActiveLearner model the record it has requested.\n",
    "    X, y = X_pool[query_index].reshape(1, -1), y_pool[query_index].reshape(1, )\n",
    "    learner.teach(X=X, y=y)\n",
    "\n",
    "    # Remove the queried instance from the unlabeled pool.\n",
    "    X_pool, y_pool = np.delete(X_pool, query_index, axis=0), np.delete(y_pool, query_index)\n",
    "\n",
    "    # Calculate and report our model's accuracy.\n",
    "    model_accuracy = learner.score(X_test, y_test)\n",
    "    \n",
    "    filename = 'models/model'+str(index)+'.sav'\n",
    "    pickle.dump(learner.estimator, open(filename,'wb'))\n",
    "    print('Accuracy after query {n}: {acc:0.4f}'.format(n=index + 1, acc=model_accuracy))\n",
    "\n",
    "    # Save our model's performance for plotting.\n",
    "    performance_history.append(model_accuracy)"
   ]
  },
  {
   "cell_type": "code",
   "execution_count": null,
   "metadata": {},
   "outputs": [],
   "source": []
  }
 ],
 "metadata": {
  "kernelspec": {
   "display_name": "Python 3",
   "language": "python",
   "name": "python3"
  },
  "language_info": {
   "codemirror_mode": {
    "name": "ipython",
    "version": 3
   },
   "file_extension": ".py",
   "mimetype": "text/x-python",
   "name": "python",
   "nbconvert_exporter": "python",
   "pygments_lexer": "ipython3",
   "version": "3.7.6"
  }
 },
 "nbformat": 4,
 "nbformat_minor": 5
}
